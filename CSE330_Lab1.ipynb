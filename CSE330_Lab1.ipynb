{
  "nbformat": 4,
  "nbformat_minor": 0,
  "metadata": {
    "colab": {
      "provenance": []
    },
    "kernelspec": {
      "name": "python3",
      "display_name": "Python 3"
    },
    "language_info": {
      "name": "python"
    }
  },
  "cells": [
    {
      "cell_type": "markdown",
      "source": [
        "#Introduction to Python"
      ],
      "metadata": {
        "id": "onlr4FOK2vlI"
      }
    },
    {
      "cell_type": "markdown",
      "source": [
        "# Variables and Data Types\n",
        "* Variables are dynammically typed. No need to write data type while declaring a variable."
      ],
      "metadata": {
        "id": "HrRcQURW3PZ3"
      }
    },
    {
      "cell_type": "code",
      "execution_count": null,
      "metadata": {
        "id": "cKhS2uyKQLfE"
      },
      "outputs": [],
      "source": [
        "#Declaring variables\n",
        "\n",
        "a = 123           #integer\n",
        "b = 1.23          #float\n",
        "c = 1 + 2j        #complex\n",
        "d = \"Hello World\" #string\n",
        "e = True          #boolean true\n",
        "f =  False        #boolean false"
      ]
    },
    {
      "cell_type": "code",
      "source": [
        "#Printing the variables\n",
        "\n",
        "print (a)\n",
        "print (b)\n",
        "print (c)         #Bracket for complex number\n",
        "print (d)\n",
        "print (e)"
      ],
      "metadata": {
        "id": "Jdj-qQJd4mMr",
        "colab": {
          "base_uri": "https://localhost:8080/"
        },
        "outputId": "5f787a81-7174-4408-c00e-2c1adb55be4a"
      },
      "execution_count": null,
      "outputs": [
        {
          "output_type": "stream",
          "name": "stdout",
          "text": [
            "123\n",
            "1.23\n",
            "(1+2j)\n",
            "Hello World\n",
            "True\n"
          ]
        }
      ]
    },
    {
      "cell_type": "code",
      "source": [
        "#Checking types\n",
        "\n",
        "type(c)"
      ],
      "metadata": {
        "id": "jV1nmQWM4zNZ",
        "colab": {
          "base_uri": "https://localhost:8080/"
        },
        "outputId": "bee49e3c-df63-49cb-afea-f69bb1a8426d"
      },
      "execution_count": null,
      "outputs": [
        {
          "output_type": "execute_result",
          "data": {
            "text/plain": [
              "complex"
            ]
          },
          "metadata": {},
          "execution_count": 6
        }
      ]
    },
    {
      "cell_type": "code",
      "source": [
        "#Basic arithmetic operations\n",
        "\n",
        "print (5 + 2)\n",
        "print (5 - 2)\n",
        "print (5 * 2)\n",
        "print (5 / 2)\n",
        "print(5//2)\n",
        "print (5 % 2)     #Mod operator. Returns remainder\n",
        "print (2 ** 4)    #Power"
      ],
      "metadata": {
        "id": "Ti7rIS1f5CBm",
        "colab": {
          "base_uri": "https://localhost:8080/"
        },
        "outputId": "59c86fe1-0afb-4a30-b4b9-18008c07b7e8"
      },
      "execution_count": null,
      "outputs": [
        {
          "output_type": "stream",
          "name": "stdout",
          "text": [
            "7\n",
            "3\n",
            "10\n",
            "2.5\n",
            "2\n",
            "1\n",
            "16\n"
          ]
        }
      ]
    },
    {
      "cell_type": "code",
      "source": [
        "print (5 / 3)\n",
        "print (5 // 3)    #Returns only the Integer part"
      ],
      "metadata": {
        "id": "cneCTF135XiG",
        "colab": {
          "base_uri": "https://localhost:8080/"
        },
        "outputId": "18c48583-dc1d-4514-d54e-d8ab554f59b1"
      },
      "execution_count": null,
      "outputs": [
        {
          "output_type": "stream",
          "name": "stdout",
          "text": [
            "1.6666666666666667\n",
            "1\n"
          ]
        }
      ]
    },
    {
      "cell_type": "code",
      "source": [
        "print (\"The current value of a is\", a)            #Concatenated using comma\n",
        "print (\"The current value of a is\", a, \"and b is\", b)"
      ],
      "metadata": {
        "id": "D5Y4hPR16GaA",
        "colab": {
          "base_uri": "https://localhost:8080/"
        },
        "outputId": "5c6490ff-86cc-44df-9d7e-5cf215a38cdc"
      },
      "execution_count": null,
      "outputs": [
        {
          "output_type": "stream",
          "name": "stdout",
          "text": [
            "The current value of a is 123\n",
            "The current value of a is 123 and b is 1.23\n"
          ]
        }
      ]
    },
    {
      "cell_type": "code",
      "source": [
        "print (\"The current value of a is\", a)            #Default blank space\n",
        "print (\"The current value of a is\", a, sep = '...')  #Customize using separator"
      ],
      "metadata": {
        "id": "sWpFPILg6ahF",
        "colab": {
          "base_uri": "https://localhost:8080/"
        },
        "outputId": "a534f701-5d50-4d71-9064-e714bbd7fa6f"
      },
      "execution_count": null,
      "outputs": [
        {
          "output_type": "stream",
          "name": "stdout",
          "text": [
            "The current value of a is 123\n",
            "The current value of a is...123\n"
          ]
        }
      ]
    },
    {
      "cell_type": "code",
      "source": [
        "print (\"The current value of a is\", a)          #Auto newline added. If we don't need any newline, keep it blank\n",
        "print (\"The current value of a is\", a, end = \"\\n\\n\")\n",
        "print (\"Hello\")"
      ],
      "metadata": {
        "id": "7Sg0vHJ46cTL",
        "colab": {
          "base_uri": "https://localhost:8080/"
        },
        "outputId": "437aa434-0117-4e88-a8f0-3f2ac79e0336"
      },
      "execution_count": null,
      "outputs": [
        {
          "output_type": "stream",
          "name": "stdout",
          "text": [
            "The current value of a is 123\n",
            "The current value of a is 123\n",
            "\n",
            "Hello\n"
          ]
        }
      ]
    },
    {
      "cell_type": "markdown",
      "source": [
        "# String"
      ],
      "metadata": {
        "id": "QJDInrmrMwhN"
      }
    },
    {
      "cell_type": "code",
      "source": [
        "#String Concatenation\n",
        "x = \"Hi!\"\n",
        "y = \"My name is Bangladesh\"\n",
        "z = x + y\n",
        "print (z)"
      ],
      "metadata": {
        "id": "NF2li37XMzI9",
        "colab": {
          "base_uri": "https://localhost:8080/"
        },
        "outputId": "000ec41e-e37f-41dd-d5eb-b864f27558fd"
      },
      "execution_count": null,
      "outputs": [
        {
          "output_type": "stream",
          "name": "stdout",
          "text": [
            "Hi!My name is Bangladesh\n"
          ]
        }
      ]
    },
    {
      "cell_type": "code",
      "source": [
        "#Accessing String with character position number. Space is also a character\n",
        "print (y[0])\n",
        "print (y[5])"
      ],
      "metadata": {
        "id": "jYD89_CONM5H",
        "colab": {
          "base_uri": "https://localhost:8080/"
        },
        "outputId": "c0e17001-c514-4348-b756-79f3c08e70de"
      },
      "execution_count": null,
      "outputs": [
        {
          "output_type": "stream",
          "name": "stdout",
          "text": [
            "M\n",
            "m\n"
          ]
        }
      ]
    },
    {
      "cell_type": "code",
      "source": [
        "#Length of the String\n",
        "print (len(x))"
      ],
      "metadata": {
        "id": "tewLjes0Nw84",
        "colab": {
          "base_uri": "https://localhost:8080/"
        },
        "outputId": "b96d46a1-64dd-4767-893a-f72e3fd4c3e1"
      },
      "execution_count": null,
      "outputs": [
        {
          "output_type": "stream",
          "name": "stdout",
          "text": [
            "3\n"
          ]
        }
      ]
    },
    {
      "cell_type": "code",
      "source": [
        "#Acsessing Last Character\n",
        "print (y[len(y)-1])\n",
        "print(y[-1])"
      ],
      "metadata": {
        "id": "oQef5xCbN6SK",
        "colab": {
          "base_uri": "https://localhost:8080/"
        },
        "outputId": "4510bc12-b040-4086-c124-df54ef789de8"
      },
      "execution_count": null,
      "outputs": [
        {
          "output_type": "stream",
          "name": "stdout",
          "text": [
            "h\n",
            "h\n"
          ]
        }
      ]
    },
    {
      "cell_type": "code",
      "source": [
        "#Common String Methods\n",
        "s = \"My name is Bangladesh\"\n",
        "\n",
        "print (y.upper())   #All uppercase\n",
        "print (y.lower())   #All lowercase\n",
        "print (y.title())   #Title case - Every word first letter uppercase"
      ],
      "metadata": {
        "id": "5ubl1XfiOLPK",
        "colab": {
          "base_uri": "https://localhost:8080/"
        },
        "outputId": "9a4d124a-dfa8-49a2-f380-3372a5dad472"
      },
      "execution_count": null,
      "outputs": [
        {
          "output_type": "stream",
          "name": "stdout",
          "text": [
            "MY NAME IS BANGLADESH\n",
            "my name is bangladesh\n",
            "My Name Is Bangladesh\n"
          ]
        }
      ]
    },
    {
      "cell_type": "code",
      "source": [
        "s = \"   My name is Bangladesh\"\n",
        "print (s.strip())   #Strips spaces from starting or ending positions\n",
        "print (s.strip().title())   #Combination of multiple methods - works sequentially"
      ],
      "metadata": {
        "id": "8lQqJ1UtPa05",
        "colab": {
          "base_uri": "https://localhost:8080/"
        },
        "outputId": "68af98eb-c7bb-4c82-aca3-5f8c5adb2ceb"
      },
      "execution_count": null,
      "outputs": [
        {
          "output_type": "stream",
          "name": "stdout",
          "text": [
            "My name is Bangladesh\n",
            "My Name Is Bangladesh\n"
          ]
        }
      ]
    },
    {
      "cell_type": "code",
      "source": [
        "s = \"My name is Bangladesh\"\n",
        "print (y.find(\"is\"))    #Returns 1st letter of the intended word\n",
        "print (y.find(\"hello\")) #Not in the string\n",
        "print (y.find (\"a\"))    #Returns 1st appearence position of the intended letter"
      ],
      "metadata": {
        "id": "gz-P4SUmPFO4",
        "colab": {
          "base_uri": "https://localhost:8080/"
        },
        "outputId": "e6ec72ad-d0fe-4930-b3d2-a72edf84296e"
      },
      "execution_count": null,
      "outputs": [
        {
          "output_type": "stream",
          "name": "stdout",
          "text": [
            "8\n",
            "-1\n",
            "4\n"
          ]
        }
      ]
    },
    {
      "cell_type": "code",
      "source": [
        "#Membership Operator. Returns Boolean\n",
        "\"Bangladesh\" in s"
      ],
      "metadata": {
        "id": "NR1GxshDQStn",
        "colab": {
          "base_uri": "https://localhost:8080/"
        },
        "outputId": "952b8eea-3979-48be-822e-5f7e29900eed"
      },
      "execution_count": null,
      "outputs": [
        {
          "output_type": "execute_result",
          "data": {
            "text/plain": [
              "True"
            ]
          },
          "metadata": {},
          "execution_count": 19
        }
      ]
    },
    {
      "cell_type": "code",
      "source": [
        "#Replace method\n",
        "m = \"My name is Dhaka\"\n",
        "m_new = m.replace(\"Dhaka\", \"Bangladesh\")\n",
        "print (m_new)"
      ],
      "metadata": {
        "id": "W63Ut64LQdkD",
        "colab": {
          "base_uri": "https://localhost:8080/"
        },
        "outputId": "436df81e-2cf3-4739-85a7-1757da7a9fb9"
      },
      "execution_count": null,
      "outputs": [
        {
          "output_type": "stream",
          "name": "stdout",
          "text": [
            "My name is Bangladesh\n"
          ]
        }
      ]
    },
    {
      "cell_type": "code",
      "source": [
        "#String Slicing\n",
        "s = \"I love watching football!\"\n",
        "\n",
        "#m[a:b] -> Return from index a up until index b (b not included)\n",
        "print (s[0:5])"
      ],
      "metadata": {
        "id": "vnKBzTtoQjZH",
        "colab": {
          "base_uri": "https://localhost:8080/"
        },
        "outputId": "3549625d-746f-44d2-db52-e0b3ba954242"
      },
      "execution_count": null,
      "outputs": [
        {
          "output_type": "stream",
          "name": "stdout",
          "text": [
            "I lov\n"
          ]
        }
      ]
    },
    {
      "cell_type": "code",
      "source": [
        "print (s[:5])\n",
        "print (s[5:])"
      ],
      "metadata": {
        "id": "nAczcP8VQnYL",
        "colab": {
          "base_uri": "https://localhost:8080/"
        },
        "outputId": "522caeff-d342-4a80-fb87-42eb075c735c"
      },
      "execution_count": null,
      "outputs": [
        {
          "output_type": "stream",
          "name": "stdout",
          "text": [
            "I lov\n",
            "e watching football!\n"
          ]
        }
      ]
    },
    {
      "cell_type": "code",
      "source": [
        "print (s[-4:])"
      ],
      "metadata": {
        "id": "mxV_ZBLDQozT",
        "colab": {
          "base_uri": "https://localhost:8080/"
        },
        "outputId": "e0de12b8-b27a-4701-f18d-c8d30f4041be"
      },
      "execution_count": null,
      "outputs": [
        {
          "output_type": "stream",
          "name": "stdout",
          "text": [
            "all!\n"
          ]
        }
      ]
    },
    {
      "cell_type": "markdown",
      "source": [
        "# User Input"
      ],
      "metadata": {
        "id": "UYj0I-eaQrIv"
      }
    },
    {
      "cell_type": "code",
      "source": [
        "username = input(\"Enter username:\")\n",
        "print(\"Username is: \" + username)"
      ],
      "metadata": {
        "id": "1vGSl_PbRtyP",
        "colab": {
          "base_uri": "https://localhost:8080/"
        },
        "outputId": "41f11f82-85c8-46b3-97b3-b9f54ff99e71"
      },
      "execution_count": null,
      "outputs": [
        {
          "output_type": "stream",
          "name": "stdout",
          "text": [
            "Enter username:pritha\n",
            "Username is: pritha\n"
          ]
        }
      ]
    },
    {
      "cell_type": "code",
      "source": [
        "num = int(input(\"Enter number:\"))  #Take user input as string. Need to type cast to use the numbers\n",
        "print (num * 2)"
      ],
      "metadata": {
        "id": "_dOR7KhESi1f",
        "colab": {
          "base_uri": "https://localhost:8080/"
        },
        "outputId": "f2a70aed-d3e9-4170-f737-7fa690959b79"
      },
      "execution_count": null,
      "outputs": [
        {
          "output_type": "stream",
          "name": "stdout",
          "text": [
            "Enter number:768\n",
            "1536\n"
          ]
        }
      ]
    },
    {
      "cell_type": "markdown",
      "source": [
        "# Conditional Statements"
      ],
      "metadata": {
        "id": "RMCzuY24dCqn"
      }
    },
    {
      "cell_type": "code",
      "source": [
        "x = 5\n",
        "y = 6\n",
        "\n",
        "if x > y:\n",
        "  print(\"Maximum is x\")\n",
        "else:\n",
        "  print (\"Maximum is y\")"
      ],
      "metadata": {
        "id": "asPpvFthdIev",
        "colab": {
          "base_uri": "https://localhost:8080/"
        },
        "outputId": "69beda52-a96a-47af-f691-0179f4294ce2"
      },
      "execution_count": null,
      "outputs": [
        {
          "output_type": "stream",
          "name": "stdout",
          "text": [
            "Maximum is y\n"
          ]
        }
      ]
    },
    {
      "cell_type": "code",
      "source": [
        "#elif\n",
        "x = 5\n",
        "y = 5\n",
        "\n",
        "if x > y:\n",
        "  print(\"Maximum is x\")\n",
        "elif x == y:\n",
        "  print (\"x and y are equal\")\n",
        "else:\n",
        "  print (\"Maximum is y\")"
      ],
      "metadata": {
        "id": "zaQxon66dL8-",
        "colab": {
          "base_uri": "https://localhost:8080/"
        },
        "outputId": "c652034f-039b-4bea-e22d-05b23ab4b0cc"
      },
      "execution_count": null,
      "outputs": [
        {
          "output_type": "stream",
          "name": "stdout",
          "text": [
            "x and y are equal\n"
          ]
        }
      ]
    },
    {
      "cell_type": "code",
      "source": [
        "#and - Both conditions need to be True\n",
        "a = 200\n",
        "b = 10\n",
        "c = 500\n",
        "if a > b and c > a:\n",
        "  print(\"Both conditions are True\")\n",
        "else:\n",
        "  print(\"Negative!!\")"
      ],
      "metadata": {
        "id": "6FWjqU1YdOoN",
        "colab": {
          "base_uri": "https://localhost:8080/"
        },
        "outputId": "09a2223c-8f21-49ac-fd99-77c8d7b01412"
      },
      "execution_count": null,
      "outputs": [
        {
          "output_type": "stream",
          "name": "stdout",
          "text": [
            "Both conditions are True\n"
          ]
        }
      ]
    },
    {
      "cell_type": "code",
      "source": [
        "#or - Either one of the conditions = True should be enough\n",
        "a = 200\n",
        "b = 10\n",
        "c = 500\n",
        "if a > b or a > c:\n",
        "  print(\"At least one of the conditions is True\")\n",
        "else:\n",
        "  print(\"Negative!!\")"
      ],
      "metadata": {
        "id": "XTSMGCNtdQUD",
        "colab": {
          "base_uri": "https://localhost:8080/"
        },
        "outputId": "7c2fa128-6095-41ff-c858-8f9ad1deb182"
      },
      "execution_count": null,
      "outputs": [
        {
          "output_type": "stream",
          "name": "stdout",
          "text": [
            "At least one of the conditions is True\n"
          ]
        }
      ]
    },
    {
      "cell_type": "code",
      "source": [
        "#Nested if\n",
        "x = 50\n",
        "\n",
        "if x > 10:\n",
        "  print(\"Above ten!\")\n",
        "  if x > 20:\n",
        "    print(\"and also above 20!\")\n",
        "  else:\n",
        "    print(\"but not above 20!\")\n",
        "else:\n",
        "  print(\"Not even above ten!\")"
      ],
      "metadata": {
        "id": "TNauSPbCdQ_b",
        "colab": {
          "base_uri": "https://localhost:8080/"
        },
        "outputId": "5ae09138-984a-453a-82cf-1a4382dd61e2"
      },
      "execution_count": null,
      "outputs": [
        {
          "output_type": "stream",
          "name": "stdout",
          "text": [
            "Above ten!\n",
            "and also above 20!\n"
          ]
        }
      ]
    },
    {
      "cell_type": "code",
      "source": [
        "#pass statement - Can not leave any block blank. Use pass\n",
        "\n",
        "a = 10\n",
        "b = 20\n",
        "\n",
        "if b > a:\n",
        "  pass\n",
        "#else:\n",
        "#print(\"hello\")\n"
      ],
      "metadata": {
        "id": "UAjfef3EdTdQ"
      },
      "execution_count": null,
      "outputs": []
    },
    {
      "cell_type": "markdown",
      "source": [
        "# Python Built-in Data Types"
      ],
      "metadata": {
        "id": "O3_VaiIIfaM3"
      }
    },
    {
      "cell_type": "markdown",
      "source": [
        "#List\n",
        "* Similar to Java or C array\n",
        "* Collection of elements of multiple data types\n",
        "* Allows easy modification of data\n",
        "* Requires more memory to store additional information about data types of each element"
      ],
      "metadata": {
        "id": "D06hYOfdff_9"
      }
    },
    {
      "cell_type": "code",
      "source": [
        "#Initializing\n",
        "list = [1, 2, 3, 4, 5]\n",
        "print(list)"
      ],
      "metadata": {
        "id": "rYWSjBBbfiTV",
        "colab": {
          "base_uri": "https://localhost:8080/"
        },
        "outputId": "627afed3-e5eb-457a-dcb5-7a43bb6d4128"
      },
      "execution_count": null,
      "outputs": [
        {
          "output_type": "stream",
          "name": "stdout",
          "text": [
            "[1, 2, 3, 4, 5]\n"
          ]
        }
      ]
    },
    {
      "cell_type": "code",
      "source": [
        "mixed_list = [1, 2.5, \"hello\", [1, 2, 3]]\n",
        "print(mixed_list[3])"
      ],
      "metadata": {
        "id": "2EZNHk0ig1He",
        "colab": {
          "base_uri": "https://localhost:8080/"
        },
        "outputId": "a5c93174-21f7-4917-80c1-cb5e72413a6c"
      },
      "execution_count": null,
      "outputs": [
        {
          "output_type": "stream",
          "name": "stdout",
          "text": [
            "[1, 2, 3]\n"
          ]
        }
      ]
    },
    {
      "cell_type": "code",
      "source": [
        "#List Methods\n",
        "print(len(list))\n",
        "print(4 in list)    #Search\n",
        "\n",
        "list[2] = \"New\"     #Update value\n",
        "print(list)\n",
        "\n",
        "list.append(\"World\")    #Add new element\n",
        "print(list)\n"
      ],
      "metadata": {
        "id": "9vTUgxdihAge",
        "outputId": "e6d99f18-1775-4391-89c6-1aa10bc3a82e",
        "colab": {
          "base_uri": "https://localhost:8080/"
        }
      },
      "execution_count": null,
      "outputs": [
        {
          "output_type": "stream",
          "name": "stdout",
          "text": [
            "5\n",
            "True\n",
            "[1, 2, 'New', 4, 5]\n",
            "[1, 2, 'New', 4, 5, 'World']\n"
          ]
        }
      ]
    },
    {
      "cell_type": "code",
      "source": [
        "list.remove(\"New\")    #Remove element\n",
        "print(list)\n",
        "list.pop(1)           #Remove using index\n",
        "print(list)\n",
        "\n",
        "list2 = [16, 55]\n",
        "joined_list = list + list2\n",
        "print(joined_list)"
      ],
      "metadata": {
        "id": "_c_eNM3TkGBH",
        "colab": {
          "base_uri": "https://localhost:8080/"
        },
        "outputId": "a8436ad5-230c-4ba6-b398-a8572c68c371"
      },
      "execution_count": null,
      "outputs": [
        {
          "output_type": "stream",
          "name": "stdout",
          "text": [
            "[1, 2, 4, 5, 'World']\n",
            "[1, 4, 5, 'World']\n",
            "[1, 4, 5, 'World', 16, 55]\n"
          ]
        }
      ]
    },
    {
      "cell_type": "code",
      "source": [
        "my_list = ['a', 'b', 'c', 'e', 'f', 'd']"
      ],
      "metadata": {
        "id": "S5RXQdaClcs2"
      },
      "execution_count": null,
      "outputs": []
    },
    {
      "cell_type": "code",
      "source": [
        "#List Slicing\n",
        "\n",
        "print (my_list[3])\n",
        "print (my_list[1:3])\n",
        "print (my_list[:3])\n",
        "print (my_list[3:])\n",
        "print (my_list[-3:])"
      ],
      "metadata": {
        "id": "wp8se23clDYU",
        "colab": {
          "base_uri": "https://localhost:8080/"
        },
        "outputId": "e55e91a9-71d0-4b4f-9f64-906b059f1ace"
      },
      "execution_count": null,
      "outputs": [
        {
          "output_type": "stream",
          "name": "stdout",
          "text": [
            "e\n",
            "['b', 'c']\n",
            "['a', 'b', 'c']\n",
            "['e', 'f', 'd']\n",
            "['e', 'f', 'd']\n"
          ]
        }
      ]
    },
    {
      "cell_type": "code",
      "source": [
        "print (my_list[0:4:2])      #index+2 everytime\n",
        "print (my_list[:])          #All elements\n",
        "print (my_list[::2])\n",
        "print (my_list[::-1])       #Reverse order"
      ],
      "metadata": {
        "id": "oafw3g8PlXZn",
        "colab": {
          "base_uri": "https://localhost:8080/"
        },
        "outputId": "7cd6799a-e627-4a85-d429-a69608e41487"
      },
      "execution_count": null,
      "outputs": [
        {
          "output_type": "stream",
          "name": "stdout",
          "text": [
            "['a', 'c']\n",
            "['a', 'b', 'c', 'e', 'f', 'd']\n",
            "['a', 'c', 'f']\n",
            "['d', 'f', 'e', 'c', 'b', 'a']\n"
          ]
        }
      ]
    },
    {
      "cell_type": "code",
      "source": [
        "#Print last 4 elements in reverse\n",
        "my_list = ['a', 'b', 'c', 'd', 'e', 'f']\n",
        "\n",
        "print (my_list[-1:-5:-1])"
      ],
      "metadata": {
        "id": "vnwvsBQVlZqQ",
        "colab": {
          "base_uri": "https://localhost:8080/"
        },
        "outputId": "c25b9f24-90b2-4e1d-87cb-5dd0d70179db"
      },
      "execution_count": null,
      "outputs": [
        {
          "output_type": "stream",
          "name": "stdout",
          "text": [
            "['f', 'e', 'd', 'c']\n"
          ]
        }
      ]
    },
    {
      "cell_type": "code",
      "source": [
        "#print 2nd to 5th element reverse order\n",
        "print (my_list[4:0:-1])"
      ],
      "metadata": {
        "id": "KfetchE5la4Z",
        "colab": {
          "base_uri": "https://localhost:8080/"
        },
        "outputId": "57e76e39-0f22-43c5-9662-58f6aefe65a6"
      },
      "execution_count": null,
      "outputs": [
        {
          "output_type": "stream",
          "name": "stdout",
          "text": [
            "['e', 'd', 'c', 'b']\n"
          ]
        }
      ]
    },
    {
      "cell_type": "code",
      "source": [
        "#Matrix [List of list] using list\n",
        "matrix = [[1, 2, 3, 4],\n",
        "          [5, 6, 7, 8]]\n",
        "\n",
        "# |1 2 3 4|\n",
        "# |5 6 7 8|\n",
        "\n",
        "print (matrix[1][2])"
      ],
      "metadata": {
        "id": "VnpfPciTnTpI",
        "colab": {
          "base_uri": "https://localhost:8080/"
        },
        "outputId": "869a096a-797c-4ad1-d38f-0500f17a73e9"
      },
      "execution_count": null,
      "outputs": [
        {
          "output_type": "stream",
          "name": "stdout",
          "text": [
            "7\n"
          ]
        }
      ]
    },
    {
      "cell_type": "markdown",
      "source": [
        "# Tuple\n",
        "* Immutable - Items can not be modified\n",
        "* Collection of elements of multiple data types"
      ],
      "metadata": {
        "id": "6CwFa9HRr_hC"
      }
    },
    {
      "cell_type": "code",
      "source": [
        "tuple = (1, 2, 3, 4, 5)\n",
        "tuple[0]"
      ],
      "metadata": {
        "id": "GDam-N-2sBWr",
        "colab": {
          "base_uri": "https://localhost:8080/"
        },
        "outputId": "cea58f9c-4247-4373-d3f0-15812bb039d2"
      },
      "execution_count": null,
      "outputs": [
        {
          "output_type": "execute_result",
          "data": {
            "text/plain": [
              "1"
            ]
          },
          "metadata": {},
          "execution_count": 45
        }
      ]
    },
    {
      "cell_type": "code",
      "source": [
        "tuple[1] = \"hello\""
      ],
      "metadata": {
        "id": "8QiO-_bIslYl",
        "colab": {
          "base_uri": "https://localhost:8080/",
          "height": 141
        },
        "outputId": "c6356fd1-3e49-41ee-9aa2-a01aa19944cb"
      },
      "execution_count": null,
      "outputs": [
        {
          "output_type": "error",
          "ename": "TypeError",
          "evalue": "'tuple' object does not support item assignment",
          "traceback": [
            "\u001b[0;31m---------------------------------------------------------------------------\u001b[0m",
            "\u001b[0;31mTypeError\u001b[0m                                 Traceback (most recent call last)",
            "\u001b[0;32m<ipython-input-46-f3de6cd25f9c>\u001b[0m in \u001b[0;36m<cell line: 1>\u001b[0;34m()\u001b[0m\n\u001b[0;32m----> 1\u001b[0;31m \u001b[0mtuple\u001b[0m\u001b[0;34m[\u001b[0m\u001b[0;36m1\u001b[0m\u001b[0;34m]\u001b[0m \u001b[0;34m=\u001b[0m \u001b[0;34m\"hello\"\u001b[0m\u001b[0;34m\u001b[0m\u001b[0;34m\u001b[0m\u001b[0m\n\u001b[0m",
            "\u001b[0;31mTypeError\u001b[0m: 'tuple' object does not support item assignment"
          ]
        }
      ]
    },
    {
      "cell_type": "markdown",
      "source": [
        "#Set\n",
        "* Immutable - Items can not be modified\n",
        "* Unordered - No index\n",
        "* No duplicates allowed"
      ],
      "metadata": {
        "id": "vgcyxF2ps6KI"
      }
    },
    {
      "cell_type": "code",
      "source": [
        "set = {\"apple\", \"banana\", \"cherry\", \"banana\"}\n",
        "print(set)"
      ],
      "metadata": {
        "id": "9W6aIMQutG5o",
        "colab": {
          "base_uri": "https://localhost:8080/"
        },
        "outputId": "20453a97-d645-4453-876f-cbbc770526dd"
      },
      "execution_count": null,
      "outputs": [
        {
          "output_type": "stream",
          "name": "stdout",
          "text": [
            "{'banana', 'apple', 'cherry'}\n"
          ]
        }
      ]
    },
    {
      "cell_type": "code",
      "source": [
        "set.add(\"orange\")\n",
        "print(set)\n",
        "\n",
        "set.remove(\"banana\")\n",
        "print(set)"
      ],
      "metadata": {
        "id": "GtfvBZX2tmAM",
        "colab": {
          "base_uri": "https://localhost:8080/"
        },
        "outputId": "98402d55-904d-45ab-9dfb-f22fb8fcac59"
      },
      "execution_count": null,
      "outputs": [
        {
          "output_type": "stream",
          "name": "stdout",
          "text": [
            "{'banana', 'apple', 'cherry', 'orange'}\n",
            "{'apple', 'cherry', 'orange'}\n"
          ]
        }
      ]
    },
    {
      "cell_type": "markdown",
      "source": [
        "# Dictionary\n",
        "* Values stored as key:value pair\n",
        "* Mutable\n",
        "* Key can be of any types but can not be a duplicate value"
      ],
      "metadata": {
        "id": "HZ2WTD9Lt7Gd"
      }
    },
    {
      "cell_type": "code",
      "source": [
        "cricketers = {\n",
        "    75: \"Shakib\",\n",
        "    2: \"Mashrafee\",\n",
        "    28: \"Tamim\",\n",
        "    \"Extra\": \"Riad\"\n",
        "}\n",
        "\n",
        "print(cricketers)"
      ],
      "metadata": {
        "id": "7XIvFev-uHCh",
        "colab": {
          "base_uri": "https://localhost:8080/"
        },
        "outputId": "d7f52cc1-320a-4564-db54-7a240326ac5a"
      },
      "execution_count": null,
      "outputs": [
        {
          "output_type": "stream",
          "name": "stdout",
          "text": [
            "{75: 'Shakib', 2: 'Mashrafee', 28: 'Tamim', 'Extra': 'Riad'}\n"
          ]
        }
      ]
    },
    {
      "cell_type": "code",
      "source": [
        "print(cricketers[\"Extra\"])      #Accessing elements\n",
        "\n",
        "cricketers[\"Extra\"] = \"Mahmudullah\"\n",
        "print(cricketers)\n",
        "\n",
        "cricketers.update({15:\"Mushfiq\"})\n",
        "print(cricketers)\n",
        "\n",
        "cricketers.pop(\"Extra\")\n",
        "print(cricketers)"
      ],
      "metadata": {
        "id": "VAkrgpV2vJk8",
        "colab": {
          "base_uri": "https://localhost:8080/"
        },
        "outputId": "d632a968-b678-41ed-f1ab-4cf0453dd021"
      },
      "execution_count": null,
      "outputs": [
        {
          "output_type": "stream",
          "name": "stdout",
          "text": [
            "Riad\n",
            "{75: 'Shakib', 2: 'Mashrafee', 28: 'Tamim', 'Extra': 'Mahmudullah'}\n",
            "{75: 'Shakib', 2: 'Mashrafee', 28: 'Tamim', 'Extra': 'Mahmudullah', 15: 'Mushfiq'}\n",
            "{75: 'Shakib', 2: 'Mashrafee', 28: 'Tamim', 15: 'Mushfiq'}\n"
          ]
        }
      ]
    },
    {
      "cell_type": "markdown",
      "source": [
        "# Loops\n",
        "* 2 types - while loop and for loop"
      ],
      "metadata": {
        "id": "XefbnIv-yCPq"
      }
    },
    {
      "cell_type": "code",
      "source": [
        "#while loop\n",
        "i = 0\n",
        "while i < 10:\n",
        "    print(i)\n",
        "    i = i + 1"
      ],
      "metadata": {
        "id": "mzPpzOMDvxez",
        "colab": {
          "base_uri": "https://localhost:8080/"
        },
        "outputId": "bb8341c5-5a83-4694-fe50-583700a9ce25"
      },
      "execution_count": null,
      "outputs": [
        {
          "output_type": "stream",
          "name": "stdout",
          "text": [
            "0\n",
            "1\n",
            "2\n",
            "3\n",
            "4\n",
            "5\n",
            "6\n",
            "7\n",
            "8\n",
            "9\n"
          ]
        }
      ]
    },
    {
      "cell_type": "code",
      "source": [
        "#for loop\n",
        "for i in range(0, 10, 2):\n",
        "  print(i)"
      ],
      "metadata": {
        "id": "4OVl6arPyrCI",
        "colab": {
          "base_uri": "https://localhost:8080/"
        },
        "outputId": "bb95d05f-d616-4b2b-d8af-c0b6571fc97b"
      },
      "execution_count": null,
      "outputs": [
        {
          "output_type": "stream",
          "name": "stdout",
          "text": [
            "0\n",
            "2\n",
            "4\n",
            "6\n",
            "8\n"
          ]
        }
      ]
    },
    {
      "cell_type": "code",
      "source": [
        "# Iterate over the list\n",
        "list = ['a', 'b', 'c', 'd', 'e']\n",
        "\n",
        "for i in list:\n",
        "  print (i)\n",
        "print(\"------------------\")\n",
        "for i in range(len(list)):\n",
        "  print(i)"
      ],
      "metadata": {
        "id": "mNWb7g0Fyy-l",
        "colab": {
          "base_uri": "https://localhost:8080/"
        },
        "outputId": "5e9e6db4-66ca-4d84-ca10-5b593d34523e"
      },
      "execution_count": null,
      "outputs": [
        {
          "output_type": "stream",
          "name": "stdout",
          "text": [
            "a\n",
            "b\n",
            "c\n",
            "d\n",
            "e\n",
            "------------------\n",
            "0\n",
            "1\n",
            "2\n",
            "3\n",
            "4\n"
          ]
        }
      ]
    },
    {
      "cell_type": "code",
      "source": [
        "# Program to iterate through a list using indexing\n",
        "list = ['a', 'b', 'c', 'd', 'e']\n",
        "\n",
        "# iterate over the list using index\n",
        "for i in range(0, len(list)):\n",
        "    print(\"index =\", i, \"value =\", list[i])"
      ],
      "metadata": {
        "id": "m7glCG6By0l0",
        "colab": {
          "base_uri": "https://localhost:8080/"
        },
        "outputId": "2fc1e3bb-60b3-4f51-b00b-a4d93c35062f"
      },
      "execution_count": null,
      "outputs": [
        {
          "output_type": "stream",
          "name": "stdout",
          "text": [
            "index = 0 value = a\n",
            "index = 1 value = b\n",
            "index = 2 value = c\n",
            "index = 3 value = d\n",
            "index = 4 value = e\n"
          ]
        }
      ]
    },
    {
      "cell_type": "code",
      "source": [
        "#break statement - Out of the loop\n",
        "fruits = [\"apple\", \"banana\", \"cherry\"]\n",
        "for x in fruits:\n",
        "  print(x)\n",
        "  if x == \"banana\":\n",
        "    break"
      ],
      "metadata": {
        "id": "mQDpRFlmy2Jx",
        "colab": {
          "base_uri": "https://localhost:8080/"
        },
        "outputId": "936d5599-5b1f-4ce7-939c-95f49b15069e"
      },
      "execution_count": null,
      "outputs": [
        {
          "output_type": "stream",
          "name": "stdout",
          "text": [
            "apple\n",
            "banana\n"
          ]
        }
      ]
    },
    {
      "cell_type": "code",
      "source": [
        "#continue statement - Stop the current iteration of the loop and continue with the next\n",
        "fruits = [\"apple\", \"banana\", \"cherry\"]\n",
        "for i in fruits:\n",
        "  if i == \"banana\":\n",
        "    continue\n",
        "  print(i)"
      ],
      "metadata": {
        "id": "BbuEkXpmy6Rk",
        "colab": {
          "base_uri": "https://localhost:8080/"
        },
        "outputId": "9a330374-5e72-4923-b0f0-666c8ec8dc2e"
      },
      "execution_count": null,
      "outputs": [
        {
          "output_type": "stream",
          "name": "stdout",
          "text": [
            "apple\n",
            "cherry\n"
          ]
        }
      ]
    },
    {
      "cell_type": "code",
      "source": [
        "#Nested loop\n",
        "num_list = [1 , 2, 3]\n",
        "alphabet_list = ['a', 'b', 'c']\n",
        "\n",
        "for number in num_list:\n",
        "    print(number)\n",
        "    for letter in alphabet_list:\n",
        "        print(letter)"
      ],
      "metadata": {
        "id": "aJR6A5Cvy-jl",
        "colab": {
          "base_uri": "https://localhost:8080/"
        },
        "outputId": "5f5de519-f97a-4b0c-f44a-164fec01f9af"
      },
      "execution_count": null,
      "outputs": [
        {
          "output_type": "stream",
          "name": "stdout",
          "text": [
            "1\n",
            "a\n",
            "b\n",
            "c\n",
            "2\n",
            "a\n",
            "b\n",
            "c\n",
            "3\n",
            "a\n",
            "b\n",
            "c\n"
          ]
        }
      ]
    },
    {
      "cell_type": "markdown",
      "source": [
        "# Functions"
      ],
      "metadata": {
        "id": "1DozBdLd8Lms"
      }
    },
    {
      "cell_type": "code",
      "source": [
        "def hello_function():\n",
        "  print(\"Hello\")\n",
        "\n",
        "hello_function()      #Global Scope"
      ],
      "metadata": {
        "id": "-VNi1sQS8O6T",
        "colab": {
          "base_uri": "https://localhost:8080/"
        },
        "outputId": "ae5ea157-9a62-4495-fee1-b24c0fd86ccf"
      },
      "execution_count": null,
      "outputs": [
        {
          "output_type": "stream",
          "name": "stdout",
          "text": [
            "Hello\n"
          ]
        }
      ]
    },
    {
      "cell_type": "code",
      "source": [
        "#With parameter\n",
        "def name_function(fname, lname):\n",
        "  print(fname, \" \", lname)\n",
        "\n",
        "name_function(\"Anika\", \"Mrittika\")"
      ],
      "metadata": {
        "id": "8ZIcw_Xf8Rm6",
        "colab": {
          "base_uri": "https://localhost:8080/"
        },
        "outputId": "1cc6419a-1af6-4c9f-e73d-223f961965d7"
      },
      "execution_count": null,
      "outputs": [
        {
          "output_type": "stream",
          "name": "stdout",
          "text": [
            "Anika   Mrittika\n"
          ]
        }
      ]
    },
    {
      "cell_type": "code",
      "source": [
        "#With return statement\n",
        "def sum_numbers(number1, number2):\n",
        "  result = number1+number2\n",
        "  return result\n",
        "\n",
        "x = sum_numbers(2, 3)\n",
        "print (x)"
      ],
      "metadata": {
        "id": "GyE5gcc88TfB",
        "colab": {
          "base_uri": "https://localhost:8080/"
        },
        "outputId": "115d03b3-50f1-4b13-d41b-dddb773f085a"
      },
      "execution_count": null,
      "outputs": [
        {
          "output_type": "stream",
          "name": "stdout",
          "text": [
            "5\n"
          ]
        }
      ]
    },
    {
      "cell_type": "code",
      "source": [
        "#Default Parameter Value\n",
        "def increment(number, by=1):\n",
        "    return number + 2*by\n",
        "\n",
        "print(increment(2))\n",
        "print(increment(2, 5))\n",
        "\n",
        "# Keyword arguments\n",
        "print(increment(by=1, number=2))"
      ],
      "metadata": {
        "id": "f-xmb-TG8WZh",
        "colab": {
          "base_uri": "https://localhost:8080/"
        },
        "outputId": "980e59aa-8765-4b1a-f2be-e32ecced88c4"
      },
      "execution_count": null,
      "outputs": [
        {
          "output_type": "stream",
          "name": "stdout",
          "text": [
            "4\n",
            "12\n",
            "4\n"
          ]
        }
      ]
    },
    {
      "cell_type": "code",
      "source": [
        "#If the number of arguments is unknown, add a * before the parameter name. Stored as a Tuple\n",
        "def print_student_list(*kids):\n",
        "  for x in kids:\n",
        "    print (x)\n",
        "\n",
        "print_student_list(\"Emil\", \"Tobias\", \"Linus\")"
      ],
      "metadata": {
        "id": "RKxRqj9f8XCP",
        "colab": {
          "base_uri": "https://localhost:8080/"
        },
        "outputId": "27fe9a7d-5b3a-46e6-a79c-cfd72a6b6191"
      },
      "execution_count": null,
      "outputs": [
        {
          "output_type": "stream",
          "name": "stdout",
          "text": [
            "Emil\n",
            "Tobias\n",
            "Linus\n"
          ]
        }
      ]
    },
    {
      "cell_type": "markdown",
      "source": [
        "# Numpy\n",
        "* A Python library\n",
        "* Used for working with arrays\n",
        "* Short form of \"Numerical Python\"\n",
        "* Aims to provide an array object that is up to 50x faster than traditional Python lists\n",
        "* Provides a lot of supporting functions"
      ],
      "metadata": {
        "id": "0EE-AY7H_OhY"
      }
    },
    {
      "cell_type": "code",
      "source": [
        "import numpy as np"
      ],
      "metadata": {
        "id": "xtFNP_RN_pMg"
      },
      "execution_count": null,
      "outputs": []
    },
    {
      "cell_type": "code",
      "source": [
        "arr = np.array([1 , 2, 3, 2.45, \"hello\"])\n",
        "print(arr)\n",
        "\n",
        "print(type(arr))"
      ],
      "metadata": {
        "id": "Z3WFV-mw_spn",
        "colab": {
          "base_uri": "https://localhost:8080/"
        },
        "outputId": "99b8bff5-c3a3-4952-807f-6b0521930a60"
      },
      "execution_count": null,
      "outputs": [
        {
          "output_type": "stream",
          "name": "stdout",
          "text": [
            "['1' '2' '3' '2.45' 'hello']\n",
            "<class 'numpy.ndarray'>\n"
          ]
        }
      ]
    },
    {
      "cell_type": "code",
      "source": [
        "print(len(arr))\n",
        "print(arr.shape)    #row, column"
      ],
      "metadata": {
        "id": "6ca6xhZ7_w0O",
        "colab": {
          "base_uri": "https://localhost:8080/"
        },
        "outputId": "b78104ed-fa47-4d8c-e870-f419a53d9a57"
      },
      "execution_count": null,
      "outputs": [
        {
          "output_type": "stream",
          "name": "stdout",
          "text": [
            "5\n",
            "(5,)\n"
          ]
        }
      ]
    },
    {
      "cell_type": "code",
      "source": [
        "#Append\n",
        "x = np.array([1, 2, 3, 4, 5])\n",
        "y = np.append(x, [70])\n",
        "print(y)\n",
        "print(x)    #No change in main array"
      ],
      "metadata": {
        "id": "iDcdgWMt_yVH",
        "colab": {
          "base_uri": "https://localhost:8080/"
        },
        "outputId": "8f6e232b-9f14-4062-e925-ba89f14a6931"
      },
      "execution_count": null,
      "outputs": [
        {
          "output_type": "stream",
          "name": "stdout",
          "text": [
            "[ 1  2  3  4  5 70]\n",
            "[1 2 3 4 5]\n"
          ]
        }
      ]
    },
    {
      "cell_type": "code",
      "source": [
        "#Delete\n",
        "x = np.array([1, 2, 3, 4, 5])\n",
        "y = np.delete(x, 2)   #Delete using index\n",
        "print(x)\n",
        "print(y)"
      ],
      "metadata": {
        "id": "Q1pfVX40_0FN",
        "colab": {
          "base_uri": "https://localhost:8080/"
        },
        "outputId": "cbe4ac00-3568-48d9-f3e9-12fdfd28d956"
      },
      "execution_count": null,
      "outputs": [
        {
          "output_type": "stream",
          "name": "stdout",
          "text": [
            "[1 2 3 4 5]\n",
            "[1 2 4 5]\n"
          ]
        }
      ]
    },
    {
      "cell_type": "code",
      "source": [
        "#Sorting\n",
        "x = np.array([7, 8, 3, 10, 5])\n",
        "sorted_x = np.sort(x)\n",
        "print(sorted_x)     #Ascending\n",
        "print(sorted_x[3:1:-1])   #Descending - Reverse the Ascending order sorted array\n",
        "\n",
        "print(sorted_x[::-1])"
      ],
      "metadata": {
        "colab": {
          "base_uri": "https://localhost:8080/"
        },
        "id": "1qy0N4g3_3j2",
        "outputId": "0fbee7f7-f31f-420f-8a40-22c36a970f46"
      },
      "execution_count": null,
      "outputs": [
        {
          "output_type": "stream",
          "name": "stdout",
          "text": [
            "[ 3  5  7  8 10]\n",
            "[8 7]\n",
            "[10  8  7  5  3]\n"
          ]
        }
      ]
    },
    {
      "cell_type": "code",
      "source": [
        "arr_2d = np.array([[1, 2, 3],\n",
        "                   [4, 5, 6]])\n",
        "print(arr_2d)"
      ],
      "metadata": {
        "colab": {
          "base_uri": "https://localhost:8080/"
        },
        "id": "vIZa3jz__5Fk",
        "outputId": "6526fd0d-cd7c-43b2-9d9b-1c4ab928a225"
      },
      "execution_count": null,
      "outputs": [
        {
          "output_type": "stream",
          "name": "stdout",
          "text": [
            "[[1 2 3]\n",
            " [4 5 6]]\n"
          ]
        }
      ]
    },
    {
      "cell_type": "code",
      "source": [
        "print(len(arr_2d))\n",
        "print(arr_2d.shape)     #row, column\n",
        "print(arr_2d.ndim)      #Dimension"
      ],
      "metadata": {
        "colab": {
          "base_uri": "https://localhost:8080/"
        },
        "id": "XBmIx2l5D8No",
        "outputId": "2483db4f-d722-4ab5-a09f-663e7f0bc823"
      },
      "execution_count": null,
      "outputs": [
        {
          "output_type": "stream",
          "name": "stdout",
          "text": [
            "2\n",
            "(2, 3)\n",
            "2\n"
          ]
        }
      ]
    },
    {
      "cell_type": "code",
      "source": [
        "#indexing\n",
        "arr = np.array([1, 2, 3, 4])\n",
        "\n",
        "print(arr[0])     #1st element\n",
        "print(arr[-1])    #Last element"
      ],
      "metadata": {
        "id": "PZpNDB7L_6pX",
        "colab": {
          "base_uri": "https://localhost:8080/"
        },
        "outputId": "fd5b2f30-c4e6-4784-f0cf-0372b0d6a125"
      },
      "execution_count": null,
      "outputs": [
        {
          "output_type": "stream",
          "name": "stdout",
          "text": [
            "1\n",
            "4\n"
          ]
        }
      ]
    },
    {
      "cell_type": "code",
      "source": [
        "arr = np.array([[1,2,3,4,5],\n",
        "               [6,7,8,9,10]])\n",
        "print(arr)\n",
        "\n",
        "print('4th element on 2nd row: ', arr[1, 3])"
      ],
      "metadata": {
        "id": "IrKfWsQjESMX",
        "colab": {
          "base_uri": "https://localhost:8080/"
        },
        "outputId": "dac5e964-f00b-435d-9fe4-ba557dc81c29"
      },
      "execution_count": null,
      "outputs": [
        {
          "output_type": "stream",
          "name": "stdout",
          "text": [
            "[[ 1  2  3  4  5]\n",
            " [ 6  7  8  9 10]]\n",
            "4th element on 2nd row:  9\n"
          ]
        }
      ]
    },
    {
      "cell_type": "code",
      "source": [
        "#Slicing\n",
        "arr = np.array([1, 2, 3, 4, 5, 6, 7])\n",
        "\n",
        "print(arr[4:])\n",
        "print(arr[:4])\n",
        "print(arr[-3:-1])\n",
        "print(arr[1:5:2])"
      ],
      "metadata": {
        "id": "H0rVK7A_BJEt",
        "colab": {
          "base_uri": "https://localhost:8080/"
        },
        "outputId": "34524c89-8412-4d52-d67f-f239b17e5830"
      },
      "execution_count": null,
      "outputs": [
        {
          "output_type": "stream",
          "name": "stdout",
          "text": [
            "[5 6 7]\n",
            "[1 2 3 4]\n",
            "[5 6]\n",
            "[2 4]\n"
          ]
        }
      ]
    },
    {
      "cell_type": "code",
      "source": [
        "#Slicing 2-D Arrays\n",
        "arr = np.array([[1, 2, 3, 4, 5],\n",
        "                [6, 7, 8, 9, 10]])\n",
        "\n",
        "#From the second row, slice elements from index 1 to index 4 (not included)\n",
        "print(arr[1, 1:4])\n",
        "\n",
        "#From both rows, slice index 1 to index 4 (not included)\n",
        "print(arr[0:2, 1:4])"
      ],
      "metadata": {
        "id": "YoYhF5ErBWDo",
        "colab": {
          "base_uri": "https://localhost:8080/"
        },
        "outputId": "d0c8a6db-ab46-4783-88a5-305d06d1c351"
      },
      "execution_count": null,
      "outputs": [
        {
          "output_type": "stream",
          "name": "stdout",
          "text": [
            "[7 8 9]\n",
            "[[2 3 4]\n",
            " [7 8 9]]\n"
          ]
        }
      ]
    },
    {
      "cell_type": "code",
      "source": [
        "arr = np.array([[1, 2, 3, 4, 5], [6, 7, 8, 9, 10]])\n",
        "print (arr)"
      ],
      "metadata": {
        "id": "XTp-AIxLBXjK",
        "colab": {
          "base_uri": "https://localhost:8080/"
        },
        "outputId": "56ac342a-9309-4672-afbc-bffcd3abafe0"
      },
      "execution_count": null,
      "outputs": [
        {
          "output_type": "stream",
          "name": "stdout",
          "text": [
            "[[ 1  2  3  4  5]\n",
            " [ 6  7  8  9 10]]\n"
          ]
        }
      ]
    },
    {
      "cell_type": "code",
      "source": [
        "print(arr[:, 0])    #column\n",
        "print(arr[0, :])    #row"
      ],
      "metadata": {
        "id": "zQQJ3EjNBZGh",
        "colab": {
          "base_uri": "https://localhost:8080/"
        },
        "outputId": "cc59ea8b-385d-4bab-98c9-0d0f35de3890"
      },
      "execution_count": null,
      "outputs": [
        {
          "output_type": "stream",
          "name": "stdout",
          "text": [
            "[1 6]\n",
            "[1 2 3 4 5]\n"
          ]
        }
      ]
    },
    {
      "cell_type": "code",
      "source": [
        "#zero matrix\n",
        "x = np.zeros(2)\n",
        "print(x)"
      ],
      "metadata": {
        "id": "rpqch64hBZgb",
        "colab": {
          "base_uri": "https://localhost:8080/"
        },
        "outputId": "9a396e52-02ec-47db-c8ab-b7556c431a33"
      },
      "execution_count": null,
      "outputs": [
        {
          "output_type": "stream",
          "name": "stdout",
          "text": [
            "[0. 0.]\n"
          ]
        }
      ]
    },
    {
      "cell_type": "code",
      "source": [
        "y = np.zeros((4,2))     #row, column\n",
        "print(y)"
      ],
      "metadata": {
        "id": "1RH97HoTHhBc",
        "colab": {
          "base_uri": "https://localhost:8080/"
        },
        "outputId": "53776dd0-e63b-4e28-d852-8087fceaae0b"
      },
      "execution_count": null,
      "outputs": [
        {
          "output_type": "stream",
          "name": "stdout",
          "text": [
            "[[0. 0.]\n",
            " [0. 0.]\n",
            " [0. 0.]\n",
            " [0. 0.]]\n"
          ]
        }
      ]
    },
    {
      "cell_type": "code",
      "source": [
        "a = np.array([3, 4, 5])\n",
        "b = np.array([[1,2,3],\n",
        "              [4,5,6]])\n",
        "\n",
        "print(np.sum(a))      #Summation of all elements\n",
        "print(np.prod(a))     #Product of all elements\n",
        "\n",
        "print(np.sum(b))\n",
        "print(np.sum(b, axis=0))      #Column-wise\n",
        "print(np.sum(b, axis=1))      #Row-wise"
      ],
      "metadata": {
        "id": "n4nyp2G-Ba58",
        "colab": {
          "base_uri": "https://localhost:8080/"
        },
        "outputId": "a65920ba-7922-4ed2-e25e-5bfb038cb25f"
      },
      "execution_count": null,
      "outputs": [
        {
          "output_type": "stream",
          "name": "stdout",
          "text": [
            "12\n",
            "60\n",
            "21\n",
            "[5 7 9]\n",
            "[ 6 15]\n"
          ]
        }
      ]
    },
    {
      "cell_type": "code",
      "source": [
        "#Logical indexing - Identify which elements fulfill the constraint\n",
        "b = np.array([[1,2,3],[4,5,6]])\n",
        "print(b > 2)"
      ],
      "metadata": {
        "id": "HwYYLGfkBceg",
        "colab": {
          "base_uri": "https://localhost:8080/"
        },
        "outputId": "f8f29be5-cbbd-45dc-f758-2a44b159bcb4"
      },
      "execution_count": null,
      "outputs": [
        {
          "output_type": "stream",
          "name": "stdout",
          "text": [
            "[[False False  True]\n",
            " [ True  True  True]]\n"
          ]
        }
      ]
    },
    {
      "cell_type": "code",
      "source": [
        "print(b[ b > 2 ])       #Extract the elements that fulfill the constraint"
      ],
      "metadata": {
        "id": "u01huVcQBeXf",
        "colab": {
          "base_uri": "https://localhost:8080/"
        },
        "outputId": "6e664859-48a6-4014-d783-9535f38f0b66"
      },
      "execution_count": null,
      "outputs": [
        {
          "output_type": "stream",
          "name": "stdout",
          "text": [
            "[3 4 5 6]\n"
          ]
        }
      ]
    },
    {
      "cell_type": "code",
      "source": [
        "b[ b > 2 ] = 100      #Replace where the constraints are fulfilled\n",
        "print(b)"
      ],
      "metadata": {
        "id": "VPG8dYD5JE0J",
        "colab": {
          "base_uri": "https://localhost:8080/"
        },
        "outputId": "5e74c14a-3610-4afc-8e0c-1788a2dcfabb"
      },
      "execution_count": null,
      "outputs": [
        {
          "output_type": "stream",
          "name": "stdout",
          "text": [
            "[[  1   2 100]\n",
            " [100 100 100]]\n"
          ]
        }
      ]
    },
    {
      "cell_type": "code",
      "source": [
        "#Iterating\n",
        "arr = np.array([1, 2, 3])\n",
        "for x in arr:\n",
        "  print(x)"
      ],
      "metadata": {
        "id": "nFu_IeI1Bfhk",
        "colab": {
          "base_uri": "https://localhost:8080/"
        },
        "outputId": "776c0b0e-b870-4960-c193-db039952de74"
      },
      "execution_count": null,
      "outputs": [
        {
          "output_type": "stream",
          "name": "stdout",
          "text": [
            "1\n",
            "2\n",
            "3\n"
          ]
        }
      ]
    },
    {
      "cell_type": "code",
      "source": [
        "#Print row by row\n",
        "arr = np.array([[1, 2, 3], [4, 5, 6]])\n",
        "for x in arr:\n",
        "  print(x)"
      ],
      "metadata": {
        "id": "iz6LJn_XJn81",
        "colab": {
          "base_uri": "https://localhost:8080/"
        },
        "outputId": "3f17c512-f432-4a1b-a5e8-41c9335b2e84"
      },
      "execution_count": null,
      "outputs": [
        {
          "output_type": "stream",
          "name": "stdout",
          "text": [
            "[1 2 3]\n",
            "[4 5 6]\n"
          ]
        }
      ]
    },
    {
      "cell_type": "code",
      "source": [
        "#Print element by element\n",
        "arr = np.array([[1, 2, 3], [4, 5, 6]])\n",
        "for x in arr:\n",
        "  for y in x:\n",
        "    print(y)"
      ],
      "metadata": {
        "id": "Sn4FPAkrJpsB",
        "colab": {
          "base_uri": "https://localhost:8080/"
        },
        "outputId": "d66eeb2b-1925-4d02-d298-e6c30fefe274"
      },
      "execution_count": null,
      "outputs": [
        {
          "output_type": "stream",
          "name": "stdout",
          "text": [
            "1\n",
            "2\n",
            "3\n",
            "4\n",
            "5\n",
            "6\n"
          ]
        }
      ]
    },
    {
      "cell_type": "code",
      "source": [
        "#linspace - Create a random array, same difference between the numbers\n",
        "x = np.linspace(0, 100, 51)     #start, end, how many numbers\n",
        "print(x)"
      ],
      "metadata": {
        "id": "fRr6gVT3Bhbv",
        "colab": {
          "base_uri": "https://localhost:8080/"
        },
        "outputId": "32ec87cb-a099-4e1d-bf6f-7a6b9fe95c03"
      },
      "execution_count": null,
      "outputs": [
        {
          "output_type": "stream",
          "name": "stdout",
          "text": [
            "[  0.   2.   4.   6.   8.  10.  12.  14.  16.  18.  20.  22.  24.  26.\n",
            "  28.  30.  32.  34.  36.  38.  40.  42.  44.  46.  48.  50.  52.  54.\n",
            "  56.  58.  60.  62.  64.  66.  68.  70.  72.  74.  76.  78.  80.  82.\n",
            "  84.  86.  88.  90.  92.  94.  96.  98. 100.]\n"
          ]
        }
      ]
    },
    {
      "cell_type": "code",
      "source": [
        "x = np.linspace(0, 10, 8)     #No 8 integer values of same difference between 0 - 10\n",
        "print(x)"
      ],
      "metadata": {
        "id": "mGwVVGoUK9Lq",
        "colab": {
          "base_uri": "https://localhost:8080/"
        },
        "outputId": "41a9841b-15d6-4e12-8e8b-b2107ce502da"
      },
      "execution_count": null,
      "outputs": [
        {
          "output_type": "stream",
          "name": "stdout",
          "text": [
            "[ 0.          1.42857143  2.85714286  4.28571429  5.71428571  7.14285714\n",
            "  8.57142857 10.        ]\n"
          ]
        }
      ]
    },
    {
      "cell_type": "code",
      "source": [
        "#Element wise operation - same operation on every element at a time\n",
        "\n",
        "print(x + 10)"
      ],
      "metadata": {
        "id": "BEcs4AqmBi_Z",
        "colab": {
          "base_uri": "https://localhost:8080/"
        },
        "outputId": "a6b3a4b1-729e-4323-840f-a9f815c498ed"
      },
      "execution_count": null,
      "outputs": [
        {
          "output_type": "stream",
          "name": "stdout",
          "text": [
            "[10.         11.42857143 12.85714286 14.28571429 15.71428571 17.14285714\n",
            " 18.57142857 20.        ]\n"
          ]
        }
      ]
    },
    {
      "cell_type": "code",
      "source": [
        "y = np.array([1, 2, 3, 4])\n",
        "z = np.array([10, 10, 20, 30])\n",
        "\n",
        "print(y ** 2)\n",
        "print(2*y + z)\n",
        "   #[2,  4,  6,  8]\n",
        "   #[10, 10, 20, 30]\n"
      ],
      "metadata": {
        "id": "HO4eH7D6BkjU",
        "colab": {
          "base_uri": "https://localhost:8080/"
        },
        "outputId": "f21e647c-a32a-439f-a46c-a2868194fee1"
      },
      "execution_count": null,
      "outputs": [
        {
          "output_type": "stream",
          "name": "stdout",
          "text": [
            "[ 1  4  9 16]\n",
            "[12 14 26 38]\n"
          ]
        }
      ]
    },
    {
      "cell_type": "markdown",
      "source": [
        "# Pandas\n",
        "* A Python library\n",
        "* Used to analyze and manipulate data"
      ],
      "metadata": {
        "id": "Ra14o9NoMGfg"
      }
    },
    {
      "cell_type": "markdown",
      "source": [
        "# Data Analysis"
      ],
      "metadata": {
        "id": "drUWRZ-TTP3Z"
      }
    },
    {
      "cell_type": "code",
      "source": [
        "import pandas as pd"
      ],
      "metadata": {
        "id": "ZoKFnECfMRTa"
      },
      "execution_count": null,
      "outputs": []
    },
    {
      "cell_type": "code",
      "source": [
        "data = {\n",
        "  \"Name\": ['Arif', 'Nafis', 'Hasan'],\n",
        "  \"Age\": [35, 30, 40]\n",
        "}\n",
        "\n",
        "#load data into a DataFrame [Formated data; 2 Dimensional Data Structure]\n",
        "df = pd.DataFrame(data)\n",
        "\n",
        "print(df)\n"
      ],
      "metadata": {
        "id": "pRf-NhbpQI43",
        "colab": {
          "base_uri": "https://localhost:8080/"
        },
        "outputId": "9a0754bb-ddfe-47a9-b28b-4228e28b65f3"
      },
      "execution_count": null,
      "outputs": [
        {
          "output_type": "stream",
          "name": "stdout",
          "text": [
            "    Name  Age\n",
            "0   Arif   35\n",
            "1  Nafis   30\n",
            "2  Hasan   40\n"
          ]
        }
      ]
    },
    {
      "cell_type": "code",
      "source": [
        "#loc attribute - accessing the dataframe values\n",
        "print(df.loc[0])"
      ],
      "metadata": {
        "id": "h7LaM2WkQO5j",
        "colab": {
          "base_uri": "https://localhost:8080/"
        },
        "outputId": "200b68a1-f0db-4f7e-890a-1dae530adf15"
      },
      "execution_count": null,
      "outputs": [
        {
          "output_type": "stream",
          "name": "stdout",
          "text": [
            "Name    Arif\n",
            "Age       35\n",
            "Name: 0, dtype: object\n"
          ]
        }
      ]
    },
    {
      "cell_type": "code",
      "source": [
        "#Read csv\n",
        "df = pd.read_csv('/content/sample_data/lab1_data.csv')\n",
        "print (df)          #Show first 5 and last 5 entries"
      ],
      "metadata": {
        "id": "2z-_cHjHQPeu",
        "colab": {
          "base_uri": "https://localhost:8080/"
        },
        "outputId": "99b558ed-6614-4998-e970-5b35ceb3fd91"
      },
      "execution_count": null,
      "outputs": [
        {
          "output_type": "stream",
          "name": "stdout",
          "text": [
            "     Duration  Pulse  Maxpulse  Calories\n",
            "0          60    110       130     409.1\n",
            "1          60    117       145     479.0\n",
            "2          60    103       135     340.0\n",
            "3          45    109       175     282.4\n",
            "4          45    117       148     406.0\n",
            "..        ...    ...       ...       ...\n",
            "164        60    105       140     290.8\n",
            "165        60    110       145     300.0\n",
            "166        60    115       145     310.2\n",
            "167        75    120       150     320.4\n",
            "168        75    125       150     330.4\n",
            "\n",
            "[169 rows x 4 columns]\n"
          ]
        }
      ]
    },
    {
      "cell_type": "code",
      "source": [
        "from google.colab import drive\n",
        "drive.mount('/content/drive')"
      ],
      "metadata": {
        "colab": {
          "base_uri": "https://localhost:8080/"
        },
        "id": "hyBoXvrRj1cW",
        "outputId": "3d1666f5-3a07-42b1-fabb-c6dbfffaf851"
      },
      "execution_count": null,
      "outputs": [
        {
          "output_type": "stream",
          "name": "stdout",
          "text": [
            "Drive already mounted at /content/drive; to attempt to forcibly remount, call drive.mount(\"/content/drive\", force_remount=True).\n"
          ]
        }
      ]
    },
    {
      "cell_type": "code",
      "source": [
        "print (df.to_string())        #Show all entries"
      ],
      "metadata": {
        "id": "Ow2K6pr5R_pg",
        "colab": {
          "base_uri": "https://localhost:8080/"
        },
        "outputId": "64244089-ed2d-4b18-80b8-67f19a12f40a"
      },
      "execution_count": null,
      "outputs": [
        {
          "output_type": "stream",
          "name": "stdout",
          "text": [
            "     Duration  Pulse  Maxpulse  Calories\n",
            "0          60    110       130     409.1\n",
            "1          60    117       145     479.0\n",
            "2          60    103       135     340.0\n",
            "3          45    109       175     282.4\n",
            "4          45    117       148     406.0\n",
            "5          60    102       127     300.0\n",
            "6          60    110       136     374.0\n",
            "7          45    104       134     253.3\n",
            "8          30    109       133     195.1\n",
            "9          60     98       124     269.0\n",
            "10         60    103       147     329.3\n",
            "11         60    100       120     250.7\n",
            "12         60    106       128     345.3\n",
            "13         60    104       132     379.3\n",
            "14         60     98       123     275.0\n",
            "15         60     98       120     215.2\n",
            "16         60    100       120     300.0\n",
            "17         45     90       112       NaN\n",
            "18         60    103       123     323.0\n",
            "19         45     97       125     243.0\n",
            "20         60    108       131     364.2\n",
            "21         45    100       119     282.0\n",
            "22         60    130       101     300.0\n",
            "23         45    105       132     246.0\n",
            "24         60    102       126     334.5\n",
            "25         60    100       120     250.0\n",
            "26         60     92       118     241.0\n",
            "27         60    103       132       NaN\n",
            "28         60    100       132     280.0\n",
            "29         60    102       129     380.3\n",
            "30         60     92       115     243.0\n",
            "31         45     90       112     180.1\n",
            "32         60    101       124     299.0\n",
            "33         60     93       113     223.0\n",
            "34         60    107       136     361.0\n",
            "35         60    114       140     415.0\n",
            "36         60    102       127     300.0\n",
            "37         60    100       120     300.0\n",
            "38         60    100       120     300.0\n",
            "39         45    104       129     266.0\n",
            "40         45     90       112     180.1\n",
            "41         60     98       126     286.0\n",
            "42         60    100       122     329.4\n",
            "43         60    111       138     400.0\n",
            "44         60    111       131     397.0\n",
            "45         60     99       119     273.0\n",
            "46         60    109       153     387.6\n",
            "47         45    111       136     300.0\n",
            "48         45    108       129     298.0\n",
            "49         60    111       139     397.6\n",
            "50         60    107       136     380.2\n",
            "51         80    123       146     643.1\n",
            "52         60    106       130     263.0\n",
            "53         60    118       151     486.0\n",
            "54         30    136       175     238.0\n",
            "55         60    121       146     450.7\n",
            "56         60    118       121     413.0\n",
            "57         45    115       144     305.0\n",
            "58         20    153       172     226.4\n",
            "59         45    123       152     321.0\n",
            "60        210    108       160    1376.0\n",
            "61        160    110       137    1034.4\n",
            "62        160    109       135     853.0\n",
            "63         45    118       141     341.0\n",
            "64         20    110       130     131.4\n",
            "65        180     90       130     800.4\n",
            "66        150    105       135     873.4\n",
            "67        150    107       130     816.0\n",
            "68         20    106       136     110.4\n",
            "69        300    108       143    1500.2\n",
            "70        150     97       129    1115.0\n",
            "71         60    109       153     387.6\n",
            "72         90    100       127     700.0\n",
            "73        150     97       127     953.2\n",
            "74         45    114       146     304.0\n",
            "75         90     98       125     563.2\n",
            "76         45    105       134     251.0\n",
            "77         45    110       141     300.0\n",
            "78        120    100       130     500.4\n",
            "79        270    100       131    1729.0\n",
            "80         30    159       182     319.2\n",
            "81         45    149       169     344.0\n",
            "82         30    103       139     151.1\n",
            "83        120    100       130     500.0\n",
            "84         45    100       120     225.3\n",
            "85         30    151       170     300.0\n",
            "86         45    102       136     234.0\n",
            "87        120    100       157    1000.1\n",
            "88         45    129       103     242.0\n",
            "89         20     83       107      50.3\n",
            "90        180    101       127     600.1\n",
            "91         45    107       137       NaN\n",
            "92         30     90       107     105.3\n",
            "93         15     80       100      50.5\n",
            "94         20    150       171     127.4\n",
            "95         20    151       168     229.4\n",
            "96         30     95       128     128.2\n",
            "97         25    152       168     244.2\n",
            "98         30    109       131     188.2\n",
            "99         90     93       124     604.1\n",
            "100        20     95       112      77.7\n",
            "101        90     90       110     500.0\n",
            "102        90     90       100     500.0\n",
            "103        90     90       100     500.4\n",
            "104        30     92       108      92.7\n",
            "105        30     93       128     124.0\n",
            "106       180     90       120     800.3\n",
            "107        30     90       120      86.2\n",
            "108        90     90       120     500.3\n",
            "109       210    137       184    1860.4\n",
            "110        60    102       124     325.2\n",
            "111        45    107       124     275.0\n",
            "112        15    124       139     124.2\n",
            "113        45    100       120     225.3\n",
            "114        60    108       131     367.6\n",
            "115        60    108       151     351.7\n",
            "116        60    116       141     443.0\n",
            "117        60     97       122     277.4\n",
            "118        60    105       125       NaN\n",
            "119        60    103       124     332.7\n",
            "120        30    112       137     193.9\n",
            "121        45    100       120     100.7\n",
            "122        60    119       169     336.7\n",
            "123        60    107       127     344.9\n",
            "124        60    111       151     368.5\n",
            "125        60     98       122     271.0\n",
            "126        60     97       124     275.3\n",
            "127        60    109       127     382.0\n",
            "128        90     99       125     466.4\n",
            "129        60    114       151     384.0\n",
            "130        60    104       134     342.5\n",
            "131        60    107       138     357.5\n",
            "132        60    103       133     335.0\n",
            "133        60    106       132     327.5\n",
            "134        60    103       136     339.0\n",
            "135        20    136       156     189.0\n",
            "136        45    117       143     317.7\n",
            "137        45    115       137     318.0\n",
            "138        45    113       138     308.0\n",
            "139        20    141       162     222.4\n",
            "140        60    108       135     390.0\n",
            "141        60     97       127       NaN\n",
            "142        45    100       120     250.4\n",
            "143        45    122       149     335.4\n",
            "144        60    136       170     470.2\n",
            "145        45    106       126     270.8\n",
            "146        60    107       136     400.0\n",
            "147        60    112       146     361.9\n",
            "148        30    103       127     185.0\n",
            "149        60    110       150     409.4\n",
            "150        60    106       134     343.0\n",
            "151        60    109       129     353.2\n",
            "152        60    109       138     374.0\n",
            "153        30    150       167     275.8\n",
            "154        60    105       128     328.0\n",
            "155        60    111       151     368.5\n",
            "156        60     97       131     270.4\n",
            "157        60    100       120     270.4\n",
            "158        60    114       150     382.8\n",
            "159        30     80       120     240.9\n",
            "160        30     85       120     250.4\n",
            "161        45     90       130     260.4\n",
            "162        45     95       130     270.0\n",
            "163        45    100       140     280.9\n",
            "164        60    105       140     290.8\n",
            "165        60    110       145     300.0\n",
            "166        60    115       145     310.2\n",
            "167        75    120       150     320.4\n",
            "168        75    125       150     330.4\n"
          ]
        }
      ]
    },
    {
      "cell_type": "code",
      "source": [
        "#Analyzing data\n",
        "print(df.head(10))        #Show first N entries"
      ],
      "metadata": {
        "id": "jO9jmWFGQRBd",
        "colab": {
          "base_uri": "https://localhost:8080/"
        },
        "outputId": "8a8a3e08-9bcc-4ad6-a9fd-d5393f83afbd"
      },
      "execution_count": null,
      "outputs": [
        {
          "output_type": "stream",
          "name": "stdout",
          "text": [
            "   Duration  Pulse  Maxpulse  Calories\n",
            "0        60    110       130     409.1\n",
            "1        60    117       145     479.0\n",
            "2        60    103       135     340.0\n",
            "3        45    109       175     282.4\n",
            "4        45    117       148     406.0\n",
            "5        60    102       127     300.0\n",
            "6        60    110       136     374.0\n",
            "7        45    104       134     253.3\n",
            "8        30    109       133     195.1\n",
            "9        60     98       124     269.0\n"
          ]
        }
      ]
    },
    {
      "cell_type": "code",
      "source": [
        "print(df.tail())          #Show last 5 entries"
      ],
      "metadata": {
        "id": "5Eil_B5USTJj",
        "colab": {
          "base_uri": "https://localhost:8080/"
        },
        "outputId": "c20656a4-54db-4231-f5a3-240c70e36be2"
      },
      "execution_count": null,
      "outputs": [
        {
          "output_type": "stream",
          "name": "stdout",
          "text": [
            "     Duration  Pulse  Maxpulse  Calories\n",
            "164        60    105       140     290.8\n",
            "165        60    110       145     300.0\n",
            "166        60    115       145     310.2\n",
            "167        75    120       150     320.4\n",
            "168        75    125       150     330.4\n"
          ]
        }
      ]
    },
    {
      "cell_type": "code",
      "source": [
        "print(df.info())          #Information summary of all datas"
      ],
      "metadata": {
        "id": "C74DjF0AQSXb",
        "colab": {
          "base_uri": "https://localhost:8080/"
        },
        "outputId": "f5952d53-6d6f-4ecb-c297-2fb527eafcb2"
      },
      "execution_count": null,
      "outputs": [
        {
          "output_type": "stream",
          "name": "stdout",
          "text": [
            "<class 'pandas.core.frame.DataFrame'>\n",
            "RangeIndex: 169 entries, 0 to 168\n",
            "Data columns (total 4 columns):\n",
            " #   Column    Non-Null Count  Dtype  \n",
            "---  ------    --------------  -----  \n",
            " 0   Duration  169 non-null    int64  \n",
            " 1   Pulse     169 non-null    int64  \n",
            " 2   Maxpulse  169 non-null    int64  \n",
            " 3   Calories  164 non-null    float64\n",
            "dtypes: float64(1), int64(3)\n",
            "memory usage: 5.4 KB\n",
            "None\n"
          ]
        }
      ]
    },
    {
      "cell_type": "code",
      "source": [
        "print(df.describe())        #More detailed information of all datas"
      ],
      "metadata": {
        "id": "MNVWV_FUSe3s",
        "colab": {
          "base_uri": "https://localhost:8080/"
        },
        "outputId": "9d8af09a-694b-4fcd-a44a-44f76ef344c8"
      },
      "execution_count": null,
      "outputs": [
        {
          "output_type": "stream",
          "name": "stdout",
          "text": [
            "         Duration       Pulse    Maxpulse     Calories\n",
            "count  169.000000  169.000000  169.000000   164.000000\n",
            "mean    63.846154  107.461538  134.047337   375.790244\n",
            "std     42.299949   14.510259   16.450434   266.379919\n",
            "min     15.000000   80.000000  100.000000    50.300000\n",
            "25%     45.000000  100.000000  124.000000   250.925000\n",
            "50%     60.000000  105.000000  131.000000   318.600000\n",
            "75%     60.000000  111.000000  141.000000   387.600000\n",
            "max    300.000000  159.000000  184.000000  1860.400000\n"
          ]
        }
      ]
    },
    {
      "cell_type": "code",
      "source": [
        "#Information of a specific column\n",
        "print(df[\"Calories\"].mean())\n",
        "print(df[\"Calories\"].median())\n",
        "print(df[\"Calories\"].mode())"
      ],
      "metadata": {
        "id": "rQdYGveiQTw7",
        "colab": {
          "base_uri": "https://localhost:8080/"
        },
        "outputId": "4d2130a4-e608-418a-bcec-750aa2252963"
      },
      "execution_count": null,
      "outputs": [
        {
          "output_type": "stream",
          "name": "stdout",
          "text": [
            "375.79024390243904\n",
            "318.6\n",
            "0    300.0\n",
            "Name: Calories, dtype: float64\n"
          ]
        }
      ]
    },
    {
      "cell_type": "markdown",
      "source": [
        "#Data Cleaning"
      ],
      "metadata": {
        "id": "wRbuXv01QbPi"
      }
    },
    {
      "cell_type": "code",
      "source": [
        "#Drop rows with empty cells. Return a new Data Frame.\n",
        "new_df = df.dropna()\n",
        "print(new_df.to_string())"
      ],
      "metadata": {
        "id": "oDctIPaLQcHu",
        "colab": {
          "base_uri": "https://localhost:8080/"
        },
        "outputId": "8b5eb038-df02-4e3f-fe74-7716d1486072"
      },
      "execution_count": null,
      "outputs": [
        {
          "output_type": "stream",
          "name": "stdout",
          "text": [
            "     Duration  Pulse  Maxpulse  Calories\n",
            "0          60    110       130     409.1\n",
            "1          60    117       145     479.0\n",
            "2          60    103       135     340.0\n",
            "3          45    109       175     282.4\n",
            "4          45    117       148     406.0\n",
            "5          60    102       127     300.0\n",
            "6          60    110       136     374.0\n",
            "7          45    104       134     253.3\n",
            "8          30    109       133     195.1\n",
            "9          60     98       124     269.0\n",
            "10         60    103       147     329.3\n",
            "11         60    100       120     250.7\n",
            "12         60    106       128     345.3\n",
            "13         60    104       132     379.3\n",
            "14         60     98       123     275.0\n",
            "15         60     98       120     215.2\n",
            "16         60    100       120     300.0\n",
            "18         60    103       123     323.0\n",
            "19         45     97       125     243.0\n",
            "20         60    108       131     364.2\n",
            "21         45    100       119     282.0\n",
            "22         60    130       101     300.0\n",
            "23         45    105       132     246.0\n",
            "24         60    102       126     334.5\n",
            "25         60    100       120     250.0\n",
            "26         60     92       118     241.0\n",
            "28         60    100       132     280.0\n",
            "29         60    102       129     380.3\n",
            "30         60     92       115     243.0\n",
            "31         45     90       112     180.1\n",
            "32         60    101       124     299.0\n",
            "33         60     93       113     223.0\n",
            "34         60    107       136     361.0\n",
            "35         60    114       140     415.0\n",
            "36         60    102       127     300.0\n",
            "37         60    100       120     300.0\n",
            "38         60    100       120     300.0\n",
            "39         45    104       129     266.0\n",
            "40         45     90       112     180.1\n",
            "41         60     98       126     286.0\n",
            "42         60    100       122     329.4\n",
            "43         60    111       138     400.0\n",
            "44         60    111       131     397.0\n",
            "45         60     99       119     273.0\n",
            "46         60    109       153     387.6\n",
            "47         45    111       136     300.0\n",
            "48         45    108       129     298.0\n",
            "49         60    111       139     397.6\n",
            "50         60    107       136     380.2\n",
            "51         80    123       146     643.1\n",
            "52         60    106       130     263.0\n",
            "53         60    118       151     486.0\n",
            "54         30    136       175     238.0\n",
            "55         60    121       146     450.7\n",
            "56         60    118       121     413.0\n",
            "57         45    115       144     305.0\n",
            "58         20    153       172     226.4\n",
            "59         45    123       152     321.0\n",
            "60        210    108       160    1376.0\n",
            "61        160    110       137    1034.4\n",
            "62        160    109       135     853.0\n",
            "63         45    118       141     341.0\n",
            "64         20    110       130     131.4\n",
            "65        180     90       130     800.4\n",
            "66        150    105       135     873.4\n",
            "67        150    107       130     816.0\n",
            "68         20    106       136     110.4\n",
            "69        300    108       143    1500.2\n",
            "70        150     97       129    1115.0\n",
            "71         60    109       153     387.6\n",
            "72         90    100       127     700.0\n",
            "73        150     97       127     953.2\n",
            "74         45    114       146     304.0\n",
            "75         90     98       125     563.2\n",
            "76         45    105       134     251.0\n",
            "77         45    110       141     300.0\n",
            "78        120    100       130     500.4\n",
            "79        270    100       131    1729.0\n",
            "80         30    159       182     319.2\n",
            "81         45    149       169     344.0\n",
            "82         30    103       139     151.1\n",
            "83        120    100       130     500.0\n",
            "84         45    100       120     225.3\n",
            "85         30    151       170     300.0\n",
            "86         45    102       136     234.0\n",
            "87        120    100       157    1000.1\n",
            "88         45    129       103     242.0\n",
            "89         20     83       107      50.3\n",
            "90        180    101       127     600.1\n",
            "92         30     90       107     105.3\n",
            "93         15     80       100      50.5\n",
            "94         20    150       171     127.4\n",
            "95         20    151       168     229.4\n",
            "96         30     95       128     128.2\n",
            "97         25    152       168     244.2\n",
            "98         30    109       131     188.2\n",
            "99         90     93       124     604.1\n",
            "100        20     95       112      77.7\n",
            "101        90     90       110     500.0\n",
            "102        90     90       100     500.0\n",
            "103        90     90       100     500.4\n",
            "104        30     92       108      92.7\n",
            "105        30     93       128     124.0\n",
            "106       180     90       120     800.3\n",
            "107        30     90       120      86.2\n",
            "108        90     90       120     500.3\n",
            "109       210    137       184    1860.4\n",
            "110        60    102       124     325.2\n",
            "111        45    107       124     275.0\n",
            "112        15    124       139     124.2\n",
            "113        45    100       120     225.3\n",
            "114        60    108       131     367.6\n",
            "115        60    108       151     351.7\n",
            "116        60    116       141     443.0\n",
            "117        60     97       122     277.4\n",
            "119        60    103       124     332.7\n",
            "120        30    112       137     193.9\n",
            "121        45    100       120     100.7\n",
            "122        60    119       169     336.7\n",
            "123        60    107       127     344.9\n",
            "124        60    111       151     368.5\n",
            "125        60     98       122     271.0\n",
            "126        60     97       124     275.3\n",
            "127        60    109       127     382.0\n",
            "128        90     99       125     466.4\n",
            "129        60    114       151     384.0\n",
            "130        60    104       134     342.5\n",
            "131        60    107       138     357.5\n",
            "132        60    103       133     335.0\n",
            "133        60    106       132     327.5\n",
            "134        60    103       136     339.0\n",
            "135        20    136       156     189.0\n",
            "136        45    117       143     317.7\n",
            "137        45    115       137     318.0\n",
            "138        45    113       138     308.0\n",
            "139        20    141       162     222.4\n",
            "140        60    108       135     390.0\n",
            "142        45    100       120     250.4\n",
            "143        45    122       149     335.4\n",
            "144        60    136       170     470.2\n",
            "145        45    106       126     270.8\n",
            "146        60    107       136     400.0\n",
            "147        60    112       146     361.9\n",
            "148        30    103       127     185.0\n",
            "149        60    110       150     409.4\n",
            "150        60    106       134     343.0\n",
            "151        60    109       129     353.2\n",
            "152        60    109       138     374.0\n",
            "153        30    150       167     275.8\n",
            "154        60    105       128     328.0\n",
            "155        60    111       151     368.5\n",
            "156        60     97       131     270.4\n",
            "157        60    100       120     270.4\n",
            "158        60    114       150     382.8\n",
            "159        30     80       120     240.9\n",
            "160        30     85       120     250.4\n",
            "161        45     90       130     260.4\n",
            "162        45     95       130     270.0\n",
            "163        45    100       140     280.9\n",
            "164        60    105       140     290.8\n",
            "165        60    110       145     300.0\n",
            "166        60    115       145     310.2\n",
            "167        75    120       150     320.4\n",
            "168        75    125       150     330.4\n"
          ]
        }
      ]
    },
    {
      "cell_type": "code",
      "source": [
        "#Replace NULL values with the mean value = 375\n",
        "df.fillna(375, inplace = True)        #Inplace - Changes saved in the same Dataframe\n",
        "print(df.to_string())"
      ],
      "metadata": {
        "id": "YPD1xdsPQdo5",
        "colab": {
          "base_uri": "https://localhost:8080/"
        },
        "outputId": "2f2a4729-48a7-4829-d33a-b819f7c4defb"
      },
      "execution_count": null,
      "outputs": [
        {
          "output_type": "stream",
          "name": "stdout",
          "text": [
            "     Duration  Pulse  Maxpulse  Calories\n",
            "0          60    110       130     409.1\n",
            "1          60    117       145     479.0\n",
            "2          60    103       135     340.0\n",
            "3          45    109       175     282.4\n",
            "4          45    117       148     406.0\n",
            "5          60    102       127     300.0\n",
            "6          60    110       136     374.0\n",
            "7          45    104       134     253.3\n",
            "8          30    109       133     195.1\n",
            "9          60     98       124     269.0\n",
            "10         60    103       147     329.3\n",
            "11         60    100       120     250.7\n",
            "12         60    106       128     345.3\n",
            "13         60    104       132     379.3\n",
            "14         60     98       123     275.0\n",
            "15         60     98       120     215.2\n",
            "16         60    100       120     300.0\n",
            "17         45     90       112     375.0\n",
            "18         60    103       123     323.0\n",
            "19         45     97       125     243.0\n",
            "20         60    108       131     364.2\n",
            "21         45    100       119     282.0\n",
            "22         60    130       101     300.0\n",
            "23         45    105       132     246.0\n",
            "24         60    102       126     334.5\n",
            "25         60    100       120     250.0\n",
            "26         60     92       118     241.0\n",
            "27         60    103       132     375.0\n",
            "28         60    100       132     280.0\n",
            "29         60    102       129     380.3\n",
            "30         60     92       115     243.0\n",
            "31         45     90       112     180.1\n",
            "32         60    101       124     299.0\n",
            "33         60     93       113     223.0\n",
            "34         60    107       136     361.0\n",
            "35         60    114       140     415.0\n",
            "36         60    102       127     300.0\n",
            "37         60    100       120     300.0\n",
            "38         60    100       120     300.0\n",
            "39         45    104       129     266.0\n",
            "40         45     90       112     180.1\n",
            "41         60     98       126     286.0\n",
            "42         60    100       122     329.4\n",
            "43         60    111       138     400.0\n",
            "44         60    111       131     397.0\n",
            "45         60     99       119     273.0\n",
            "46         60    109       153     387.6\n",
            "47         45    111       136     300.0\n",
            "48         45    108       129     298.0\n",
            "49         60    111       139     397.6\n",
            "50         60    107       136     380.2\n",
            "51         80    123       146     643.1\n",
            "52         60    106       130     263.0\n",
            "53         60    118       151     486.0\n",
            "54         30    136       175     238.0\n",
            "55         60    121       146     450.7\n",
            "56         60    118       121     413.0\n",
            "57         45    115       144     305.0\n",
            "58         20    153       172     226.4\n",
            "59         45    123       152     321.0\n",
            "60        210    108       160    1376.0\n",
            "61        160    110       137    1034.4\n",
            "62        160    109       135     853.0\n",
            "63         45    118       141     341.0\n",
            "64         20    110       130     131.4\n",
            "65        180     90       130     800.4\n",
            "66        150    105       135     873.4\n",
            "67        150    107       130     816.0\n",
            "68         20    106       136     110.4\n",
            "69        300    108       143    1500.2\n",
            "70        150     97       129    1115.0\n",
            "71         60    109       153     387.6\n",
            "72         90    100       127     700.0\n",
            "73        150     97       127     953.2\n",
            "74         45    114       146     304.0\n",
            "75         90     98       125     563.2\n",
            "76         45    105       134     251.0\n",
            "77         45    110       141     300.0\n",
            "78        120    100       130     500.4\n",
            "79        270    100       131    1729.0\n",
            "80         30    159       182     319.2\n",
            "81         45    149       169     344.0\n",
            "82         30    103       139     151.1\n",
            "83        120    100       130     500.0\n",
            "84         45    100       120     225.3\n",
            "85         30    151       170     300.0\n",
            "86         45    102       136     234.0\n",
            "87        120    100       157    1000.1\n",
            "88         45    129       103     242.0\n",
            "89         20     83       107      50.3\n",
            "90        180    101       127     600.1\n",
            "91         45    107       137     375.0\n",
            "92         30     90       107     105.3\n",
            "93         15     80       100      50.5\n",
            "94         20    150       171     127.4\n",
            "95         20    151       168     229.4\n",
            "96         30     95       128     128.2\n",
            "97         25    152       168     244.2\n",
            "98         30    109       131     188.2\n",
            "99         90     93       124     604.1\n",
            "100        20     95       112      77.7\n",
            "101        90     90       110     500.0\n",
            "102        90     90       100     500.0\n",
            "103        90     90       100     500.4\n",
            "104        30     92       108      92.7\n",
            "105        30     93       128     124.0\n",
            "106       180     90       120     800.3\n",
            "107        30     90       120      86.2\n",
            "108        90     90       120     500.3\n",
            "109       210    137       184    1860.4\n",
            "110        60    102       124     325.2\n",
            "111        45    107       124     275.0\n",
            "112        15    124       139     124.2\n",
            "113        45    100       120     225.3\n",
            "114        60    108       131     367.6\n",
            "115        60    108       151     351.7\n",
            "116        60    116       141     443.0\n",
            "117        60     97       122     277.4\n",
            "118        60    105       125     375.0\n",
            "119        60    103       124     332.7\n",
            "120        30    112       137     193.9\n",
            "121        45    100       120     100.7\n",
            "122        60    119       169     336.7\n",
            "123        60    107       127     344.9\n",
            "124        60    111       151     368.5\n",
            "125        60     98       122     271.0\n",
            "126        60     97       124     275.3\n",
            "127        60    109       127     382.0\n",
            "128        90     99       125     466.4\n",
            "129        60    114       151     384.0\n",
            "130        60    104       134     342.5\n",
            "131        60    107       138     357.5\n",
            "132        60    103       133     335.0\n",
            "133        60    106       132     327.5\n",
            "134        60    103       136     339.0\n",
            "135        20    136       156     189.0\n",
            "136        45    117       143     317.7\n",
            "137        45    115       137     318.0\n",
            "138        45    113       138     308.0\n",
            "139        20    141       162     222.4\n",
            "140        60    108       135     390.0\n",
            "141        60     97       127     375.0\n",
            "142        45    100       120     250.4\n",
            "143        45    122       149     335.4\n",
            "144        60    136       170     470.2\n",
            "145        45    106       126     270.8\n",
            "146        60    107       136     400.0\n",
            "147        60    112       146     361.9\n",
            "148        30    103       127     185.0\n",
            "149        60    110       150     409.4\n",
            "150        60    106       134     343.0\n",
            "151        60    109       129     353.2\n",
            "152        60    109       138     374.0\n",
            "153        30    150       167     275.8\n",
            "154        60    105       128     328.0\n",
            "155        60    111       151     368.5\n",
            "156        60     97       131     270.4\n",
            "157        60    100       120     270.4\n",
            "158        60    114       150     382.8\n",
            "159        30     80       120     240.9\n",
            "160        30     85       120     250.4\n",
            "161        45     90       130     260.4\n",
            "162        45     95       130     270.0\n",
            "163        45    100       140     280.9\n",
            "164        60    105       140     290.8\n",
            "165        60    110       145     300.0\n",
            "166        60    115       145     310.2\n",
            "167        75    120       150     320.4\n",
            "168        75    125       150     330.4\n"
          ]
        }
      ]
    },
    {
      "cell_type": "code",
      "source": [
        "#Replace in a specific column\n",
        "df[\"Calories\"].fillna(375, inplace = True)"
      ],
      "metadata": {
        "id": "iQ58HScCUpKE",
        "colab": {
          "base_uri": "https://localhost:8080/"
        },
        "outputId": "3ccee05b-69a5-4b72-d5cf-8428e77ac4db"
      },
      "execution_count": null,
      "outputs": [
        {
          "output_type": "stream",
          "name": "stderr",
          "text": [
            "<ipython-input-115-b2991eb2ba17>:2: FutureWarning: A value is trying to be set on a copy of a DataFrame or Series through chained assignment using an inplace method.\n",
            "The behavior will change in pandas 3.0. This inplace method will never work because the intermediate object on which we are setting values always behaves as a copy.\n",
            "\n",
            "For example, when doing 'df[col].method(value, inplace=True)', try using 'df.method({col: value}, inplace=True)' or df[col] = df[col].method(value) instead, to perform the operation inplace on the original object.\n",
            "\n",
            "\n",
            "  df[\"Calories\"].fillna(375, inplace = True)\n"
          ]
        }
      ]
    },
    {
      "cell_type": "code",
      "source": [
        "#Update data\n",
        "df.loc[5, 'Pulse'] = 45\n",
        "\n",
        "print(df.to_string())"
      ],
      "metadata": {
        "id": "cQdnfuyZQe8w",
        "colab": {
          "base_uri": "https://localhost:8080/"
        },
        "outputId": "d8b60298-241c-4c69-bd27-a4e5e38e942a"
      },
      "execution_count": null,
      "outputs": [
        {
          "output_type": "stream",
          "name": "stdout",
          "text": [
            "     Duration  Pulse  Maxpulse  Calories\n",
            "0          60    110       130     409.1\n",
            "1          60    117       145     479.0\n",
            "2          60    103       135     340.0\n",
            "3          45    109       175     282.4\n",
            "4          45    117       148     406.0\n",
            "5          60     45       127     300.0\n",
            "6          60    110       136     374.0\n",
            "7          45    104       134     253.3\n",
            "8          30    109       133     195.1\n",
            "9          60     98       124     269.0\n",
            "10         60    103       147     329.3\n",
            "11         60    100       120     250.7\n",
            "12         60    106       128     345.3\n",
            "13         60    104       132     379.3\n",
            "14         60     98       123     275.0\n",
            "15         60     98       120     215.2\n",
            "16         60    100       120     300.0\n",
            "17         45     90       112     375.0\n",
            "18         60    103       123     323.0\n",
            "19         45     97       125     243.0\n",
            "20         60    108       131     364.2\n",
            "21         45    100       119     282.0\n",
            "22         60    130       101     300.0\n",
            "23         45    105       132     246.0\n",
            "24         60    102       126     334.5\n",
            "25         60    100       120     250.0\n",
            "26         60     92       118     241.0\n",
            "27         60    103       132     375.0\n",
            "28         60    100       132     280.0\n",
            "29         60    102       129     380.3\n",
            "30         60     92       115     243.0\n",
            "31         45     90       112     180.1\n",
            "32         60    101       124     299.0\n",
            "33         60     93       113     223.0\n",
            "34         60    107       136     361.0\n",
            "35         60    114       140     415.0\n",
            "36         60    102       127     300.0\n",
            "37         60    100       120     300.0\n",
            "38         60    100       120     300.0\n",
            "39         45    104       129     266.0\n",
            "40         45     90       112     180.1\n",
            "41         60     98       126     286.0\n",
            "42         60    100       122     329.4\n",
            "43         60    111       138     400.0\n",
            "44         60    111       131     397.0\n",
            "45         60     99       119     273.0\n",
            "46         60    109       153     387.6\n",
            "47         45    111       136     300.0\n",
            "48         45    108       129     298.0\n",
            "49         60    111       139     397.6\n",
            "50         60    107       136     380.2\n",
            "51         80    123       146     643.1\n",
            "52         60    106       130     263.0\n",
            "53         60    118       151     486.0\n",
            "54         30    136       175     238.0\n",
            "55         60    121       146     450.7\n",
            "56         60    118       121     413.0\n",
            "57         45    115       144     305.0\n",
            "58         20    153       172     226.4\n",
            "59         45    123       152     321.0\n",
            "60        210    108       160    1376.0\n",
            "61        160    110       137    1034.4\n",
            "62        160    109       135     853.0\n",
            "63         45    118       141     341.0\n",
            "64         20    110       130     131.4\n",
            "65        180     90       130     800.4\n",
            "66        150    105       135     873.4\n",
            "67        150    107       130     816.0\n",
            "68         20    106       136     110.4\n",
            "69        300    108       143    1500.2\n",
            "70        150     97       129    1115.0\n",
            "71         60    109       153     387.6\n",
            "72         90    100       127     700.0\n",
            "73        150     97       127     953.2\n",
            "74         45    114       146     304.0\n",
            "75         90     98       125     563.2\n",
            "76         45    105       134     251.0\n",
            "77         45    110       141     300.0\n",
            "78        120    100       130     500.4\n",
            "79        270    100       131    1729.0\n",
            "80         30    159       182     319.2\n",
            "81         45    149       169     344.0\n",
            "82         30    103       139     151.1\n",
            "83        120    100       130     500.0\n",
            "84         45    100       120     225.3\n",
            "85         30    151       170     300.0\n",
            "86         45    102       136     234.0\n",
            "87        120    100       157    1000.1\n",
            "88         45    129       103     242.0\n",
            "89         20     83       107      50.3\n",
            "90        180    101       127     600.1\n",
            "91         45    107       137     375.0\n",
            "92         30     90       107     105.3\n",
            "93         15     80       100      50.5\n",
            "94         20    150       171     127.4\n",
            "95         20    151       168     229.4\n",
            "96         30     95       128     128.2\n",
            "97         25    152       168     244.2\n",
            "98         30    109       131     188.2\n",
            "99         90     93       124     604.1\n",
            "100        20     95       112      77.7\n",
            "101        90     90       110     500.0\n",
            "102        90     90       100     500.0\n",
            "103        90     90       100     500.4\n",
            "104        30     92       108      92.7\n",
            "105        30     93       128     124.0\n",
            "106       180     90       120     800.3\n",
            "107        30     90       120      86.2\n",
            "108        90     90       120     500.3\n",
            "109       210    137       184    1860.4\n",
            "110        60    102       124     325.2\n",
            "111        45    107       124     275.0\n",
            "112        15    124       139     124.2\n",
            "113        45    100       120     225.3\n",
            "114        60    108       131     367.6\n",
            "115        60    108       151     351.7\n",
            "116        60    116       141     443.0\n",
            "117        60     97       122     277.4\n",
            "118        60    105       125     375.0\n",
            "119        60    103       124     332.7\n",
            "120        30    112       137     193.9\n",
            "121        45    100       120     100.7\n",
            "122        60    119       169     336.7\n",
            "123        60    107       127     344.9\n",
            "124        60    111       151     368.5\n",
            "125        60     98       122     271.0\n",
            "126        60     97       124     275.3\n",
            "127        60    109       127     382.0\n",
            "128        90     99       125     466.4\n",
            "129        60    114       151     384.0\n",
            "130        60    104       134     342.5\n",
            "131        60    107       138     357.5\n",
            "132        60    103       133     335.0\n",
            "133        60    106       132     327.5\n",
            "134        60    103       136     339.0\n",
            "135        20    136       156     189.0\n",
            "136        45    117       143     317.7\n",
            "137        45    115       137     318.0\n",
            "138        45    113       138     308.0\n",
            "139        20    141       162     222.4\n",
            "140        60    108       135     390.0\n",
            "141        60     97       127     375.0\n",
            "142        45    100       120     250.4\n",
            "143        45    122       149     335.4\n",
            "144        60    136       170     470.2\n",
            "145        45    106       126     270.8\n",
            "146        60    107       136     400.0\n",
            "147        60    112       146     361.9\n",
            "148        30    103       127     185.0\n",
            "149        60    110       150     409.4\n",
            "150        60    106       134     343.0\n",
            "151        60    109       129     353.2\n",
            "152        60    109       138     374.0\n",
            "153        30    150       167     275.8\n",
            "154        60    105       128     328.0\n",
            "155        60    111       151     368.5\n",
            "156        60     97       131     270.4\n",
            "157        60    100       120     270.4\n",
            "158        60    114       150     382.8\n",
            "159        30     80       120     240.9\n",
            "160        30     85       120     250.4\n",
            "161        45     90       130     260.4\n",
            "162        45     95       130     270.0\n",
            "163        45    100       140     280.9\n",
            "164        60    105       140     290.8\n",
            "165        60    110       145     300.0\n",
            "166        60    115       145     310.2\n",
            "167        75    120       150     320.4\n",
            "168        75    125       150     330.4\n"
          ]
        }
      ]
    },
    {
      "cell_type": "code",
      "source": [
        "#Duplicate data finding\n",
        "print(df.duplicated().to_string())      #False - Unique, True - Duplicate values"
      ],
      "metadata": {
        "id": "geCGTtZUQgYt",
        "colab": {
          "base_uri": "https://localhost:8080/"
        },
        "outputId": "f89e3252-81a8-4651-d6b2-d0bef212ade4"
      },
      "execution_count": null,
      "outputs": [
        {
          "output_type": "stream",
          "name": "stdout",
          "text": [
            "0      False\n",
            "1      False\n",
            "2      False\n",
            "3      False\n",
            "4      False\n",
            "5      False\n",
            "6      False\n",
            "7      False\n",
            "8      False\n",
            "9      False\n",
            "10     False\n",
            "11     False\n",
            "12     False\n",
            "13     False\n",
            "14     False\n",
            "15     False\n",
            "16     False\n",
            "17     False\n",
            "18     False\n",
            "19     False\n",
            "20     False\n",
            "21     False\n",
            "22     False\n",
            "23     False\n",
            "24     False\n",
            "25     False\n",
            "26     False\n",
            "27     False\n",
            "28     False\n",
            "29     False\n",
            "30     False\n",
            "31     False\n",
            "32     False\n",
            "33     False\n",
            "34     False\n",
            "35     False\n",
            "36     False\n",
            "37      True\n",
            "38      True\n",
            "39     False\n",
            "40      True\n",
            "41     False\n",
            "42     False\n",
            "43     False\n",
            "44     False\n",
            "45     False\n",
            "46     False\n",
            "47     False\n",
            "48     False\n",
            "49     False\n",
            "50     False\n",
            "51     False\n",
            "52     False\n",
            "53     False\n",
            "54     False\n",
            "55     False\n",
            "56     False\n",
            "57     False\n",
            "58     False\n",
            "59     False\n",
            "60     False\n",
            "61     False\n",
            "62     False\n",
            "63     False\n",
            "64     False\n",
            "65     False\n",
            "66     False\n",
            "67     False\n",
            "68     False\n",
            "69     False\n",
            "70     False\n",
            "71      True\n",
            "72     False\n",
            "73     False\n",
            "74     False\n",
            "75     False\n",
            "76     False\n",
            "77     False\n",
            "78     False\n",
            "79     False\n",
            "80     False\n",
            "81     False\n",
            "82     False\n",
            "83     False\n",
            "84     False\n",
            "85     False\n",
            "86     False\n",
            "87     False\n",
            "88     False\n",
            "89     False\n",
            "90     False\n",
            "91     False\n",
            "92     False\n",
            "93     False\n",
            "94     False\n",
            "95     False\n",
            "96     False\n",
            "97     False\n",
            "98     False\n",
            "99     False\n",
            "100    False\n",
            "101    False\n",
            "102    False\n",
            "103    False\n",
            "104    False\n",
            "105    False\n",
            "106    False\n",
            "107    False\n",
            "108    False\n",
            "109    False\n",
            "110    False\n",
            "111    False\n",
            "112    False\n",
            "113     True\n",
            "114    False\n",
            "115    False\n",
            "116    False\n",
            "117    False\n",
            "118    False\n",
            "119    False\n",
            "120    False\n",
            "121    False\n",
            "122    False\n",
            "123    False\n",
            "124    False\n",
            "125    False\n",
            "126    False\n",
            "127    False\n",
            "128    False\n",
            "129    False\n",
            "130    False\n",
            "131    False\n",
            "132    False\n",
            "133    False\n",
            "134    False\n",
            "135    False\n",
            "136    False\n",
            "137    False\n",
            "138    False\n",
            "139    False\n",
            "140    False\n",
            "141    False\n",
            "142    False\n",
            "143    False\n",
            "144    False\n",
            "145    False\n",
            "146    False\n",
            "147    False\n",
            "148    False\n",
            "149    False\n",
            "150    False\n",
            "151    False\n",
            "152    False\n",
            "153    False\n",
            "154    False\n",
            "155     True\n",
            "156    False\n",
            "157    False\n",
            "158    False\n",
            "159    False\n",
            "160    False\n",
            "161    False\n",
            "162    False\n",
            "163    False\n",
            "164    False\n",
            "165    False\n",
            "166    False\n",
            "167    False\n",
            "168    False\n"
          ]
        }
      ]
    },
    {
      "cell_type": "code",
      "source": [
        "#Drop duplicate data\n",
        "df.drop_duplicates(inplace = True)\n",
        "print(df.duplicated().to_string())"
      ],
      "metadata": {
        "id": "if4uZhuTQhrC",
        "colab": {
          "base_uri": "https://localhost:8080/"
        },
        "collapsed": true,
        "outputId": "15eed6d5-8dc2-403a-92be-65b8c61eb7ec"
      },
      "execution_count": null,
      "outputs": [
        {
          "output_type": "stream",
          "name": "stdout",
          "text": [
            "0      False\n",
            "1      False\n",
            "2      False\n",
            "3      False\n",
            "4      False\n",
            "5      False\n",
            "6      False\n",
            "7      False\n",
            "8      False\n",
            "9      False\n",
            "10     False\n",
            "11     False\n",
            "12     False\n",
            "13     False\n",
            "14     False\n",
            "15     False\n",
            "16     False\n",
            "17     False\n",
            "18     False\n",
            "19     False\n",
            "20     False\n",
            "21     False\n",
            "22     False\n",
            "23     False\n",
            "24     False\n",
            "25     False\n",
            "26     False\n",
            "27     False\n",
            "28     False\n",
            "29     False\n",
            "30     False\n",
            "31     False\n",
            "32     False\n",
            "33     False\n",
            "34     False\n",
            "35     False\n",
            "36     False\n",
            "39     False\n",
            "41     False\n",
            "42     False\n",
            "43     False\n",
            "44     False\n",
            "45     False\n",
            "46     False\n",
            "47     False\n",
            "48     False\n",
            "49     False\n",
            "50     False\n",
            "51     False\n",
            "52     False\n",
            "53     False\n",
            "54     False\n",
            "55     False\n",
            "56     False\n",
            "57     False\n",
            "58     False\n",
            "59     False\n",
            "60     False\n",
            "61     False\n",
            "62     False\n",
            "63     False\n",
            "64     False\n",
            "65     False\n",
            "66     False\n",
            "67     False\n",
            "68     False\n",
            "69     False\n",
            "70     False\n",
            "72     False\n",
            "73     False\n",
            "74     False\n",
            "75     False\n",
            "76     False\n",
            "77     False\n",
            "78     False\n",
            "79     False\n",
            "80     False\n",
            "81     False\n",
            "82     False\n",
            "83     False\n",
            "84     False\n",
            "85     False\n",
            "86     False\n",
            "87     False\n",
            "88     False\n",
            "89     False\n",
            "90     False\n",
            "91     False\n",
            "92     False\n",
            "93     False\n",
            "94     False\n",
            "95     False\n",
            "96     False\n",
            "97     False\n",
            "98     False\n",
            "99     False\n",
            "100    False\n",
            "101    False\n",
            "102    False\n",
            "103    False\n",
            "104    False\n",
            "105    False\n",
            "106    False\n",
            "107    False\n",
            "108    False\n",
            "109    False\n",
            "110    False\n",
            "111    False\n",
            "112    False\n",
            "114    False\n",
            "115    False\n",
            "116    False\n",
            "117    False\n",
            "118    False\n",
            "119    False\n",
            "120    False\n",
            "121    False\n",
            "122    False\n",
            "123    False\n",
            "124    False\n",
            "125    False\n",
            "126    False\n",
            "127    False\n",
            "128    False\n",
            "129    False\n",
            "130    False\n",
            "131    False\n",
            "132    False\n",
            "133    False\n",
            "134    False\n",
            "135    False\n",
            "136    False\n",
            "137    False\n",
            "138    False\n",
            "139    False\n",
            "140    False\n",
            "141    False\n",
            "142    False\n",
            "143    False\n",
            "144    False\n",
            "145    False\n",
            "146    False\n",
            "147    False\n",
            "148    False\n",
            "149    False\n",
            "150    False\n",
            "151    False\n",
            "152    False\n",
            "153    False\n",
            "154    False\n",
            "156    False\n",
            "157    False\n",
            "158    False\n",
            "159    False\n",
            "160    False\n",
            "161    False\n",
            "162    False\n",
            "163    False\n",
            "164    False\n",
            "165    False\n",
            "166    False\n",
            "167    False\n",
            "168    False\n"
          ]
        }
      ]
    },
    {
      "cell_type": "code",
      "source": [
        "#correlation\n",
        "df.corr()       # 0 - No relation, 1 - Strongly correlated, -1 - Strongly correlated but adversely"
      ],
      "metadata": {
        "id": "pV5pyVPIQjKv",
        "colab": {
          "base_uri": "https://localhost:8080/",
          "height": 175
        },
        "outputId": "2fc3e118-00d0-44d5-a344-8522aec95503"
      },
      "execution_count": null,
      "outputs": [
        {
          "output_type": "execute_result",
          "data": {
            "text/plain": [
              "          Duration     Pulse  Maxpulse  Calories\n",
              "Duration  1.000000 -0.151275  0.003841  0.921829\n",
              "Pulse    -0.151275  1.000000  0.756845  0.022053\n",
              "Maxpulse  0.003841  0.756845  1.000000  0.194712\n",
              "Calories  0.921829  0.022053  0.194712  1.000000"
            ],
            "text/html": [
              "\n",
              "  <div id=\"df-74df935b-0f92-40c7-8f18-2cd6ef930407\" class=\"colab-df-container\">\n",
              "    <div>\n",
              "<style scoped>\n",
              "    .dataframe tbody tr th:only-of-type {\n",
              "        vertical-align: middle;\n",
              "    }\n",
              "\n",
              "    .dataframe tbody tr th {\n",
              "        vertical-align: top;\n",
              "    }\n",
              "\n",
              "    .dataframe thead th {\n",
              "        text-align: right;\n",
              "    }\n",
              "</style>\n",
              "<table border=\"1\" class=\"dataframe\">\n",
              "  <thead>\n",
              "    <tr style=\"text-align: right;\">\n",
              "      <th></th>\n",
              "      <th>Duration</th>\n",
              "      <th>Pulse</th>\n",
              "      <th>Maxpulse</th>\n",
              "      <th>Calories</th>\n",
              "    </tr>\n",
              "  </thead>\n",
              "  <tbody>\n",
              "    <tr>\n",
              "      <th>Duration</th>\n",
              "      <td>1.000000</td>\n",
              "      <td>-0.151275</td>\n",
              "      <td>0.003841</td>\n",
              "      <td>0.921829</td>\n",
              "    </tr>\n",
              "    <tr>\n",
              "      <th>Pulse</th>\n",
              "      <td>-0.151275</td>\n",
              "      <td>1.000000</td>\n",
              "      <td>0.756845</td>\n",
              "      <td>0.022053</td>\n",
              "    </tr>\n",
              "    <tr>\n",
              "      <th>Maxpulse</th>\n",
              "      <td>0.003841</td>\n",
              "      <td>0.756845</td>\n",
              "      <td>1.000000</td>\n",
              "      <td>0.194712</td>\n",
              "    </tr>\n",
              "    <tr>\n",
              "      <th>Calories</th>\n",
              "      <td>0.921829</td>\n",
              "      <td>0.022053</td>\n",
              "      <td>0.194712</td>\n",
              "      <td>1.000000</td>\n",
              "    </tr>\n",
              "  </tbody>\n",
              "</table>\n",
              "</div>\n",
              "    <div class=\"colab-df-buttons\">\n",
              "\n",
              "  <div class=\"colab-df-container\">\n",
              "    <button class=\"colab-df-convert\" onclick=\"convertToInteractive('df-74df935b-0f92-40c7-8f18-2cd6ef930407')\"\n",
              "            title=\"Convert this dataframe to an interactive table.\"\n",
              "            style=\"display:none;\">\n",
              "\n",
              "  <svg xmlns=\"http://www.w3.org/2000/svg\" height=\"24px\" viewBox=\"0 -960 960 960\">\n",
              "    <path d=\"M120-120v-720h720v720H120Zm60-500h600v-160H180v160Zm220 220h160v-160H400v160Zm0 220h160v-160H400v160ZM180-400h160v-160H180v160Zm440 0h160v-160H620v160ZM180-180h160v-160H180v160Zm440 0h160v-160H620v160Z\"/>\n",
              "  </svg>\n",
              "    </button>\n",
              "\n",
              "  <style>\n",
              "    .colab-df-container {\n",
              "      display:flex;\n",
              "      gap: 12px;\n",
              "    }\n",
              "\n",
              "    .colab-df-convert {\n",
              "      background-color: #E8F0FE;\n",
              "      border: none;\n",
              "      border-radius: 50%;\n",
              "      cursor: pointer;\n",
              "      display: none;\n",
              "      fill: #1967D2;\n",
              "      height: 32px;\n",
              "      padding: 0 0 0 0;\n",
              "      width: 32px;\n",
              "    }\n",
              "\n",
              "    .colab-df-convert:hover {\n",
              "      background-color: #E2EBFA;\n",
              "      box-shadow: 0px 1px 2px rgba(60, 64, 67, 0.3), 0px 1px 3px 1px rgba(60, 64, 67, 0.15);\n",
              "      fill: #174EA6;\n",
              "    }\n",
              "\n",
              "    .colab-df-buttons div {\n",
              "      margin-bottom: 4px;\n",
              "    }\n",
              "\n",
              "    [theme=dark] .colab-df-convert {\n",
              "      background-color: #3B4455;\n",
              "      fill: #D2E3FC;\n",
              "    }\n",
              "\n",
              "    [theme=dark] .colab-df-convert:hover {\n",
              "      background-color: #434B5C;\n",
              "      box-shadow: 0px 1px 3px 1px rgba(0, 0, 0, 0.15);\n",
              "      filter: drop-shadow(0px 1px 2px rgba(0, 0, 0, 0.3));\n",
              "      fill: #FFFFFF;\n",
              "    }\n",
              "  </style>\n",
              "\n",
              "    <script>\n",
              "      const buttonEl =\n",
              "        document.querySelector('#df-74df935b-0f92-40c7-8f18-2cd6ef930407 button.colab-df-convert');\n",
              "      buttonEl.style.display =\n",
              "        google.colab.kernel.accessAllowed ? 'block' : 'none';\n",
              "\n",
              "      async function convertToInteractive(key) {\n",
              "        const element = document.querySelector('#df-74df935b-0f92-40c7-8f18-2cd6ef930407');\n",
              "        const dataTable =\n",
              "          await google.colab.kernel.invokeFunction('convertToInteractive',\n",
              "                                                    [key], {});\n",
              "        if (!dataTable) return;\n",
              "\n",
              "        const docLinkHtml = 'Like what you see? Visit the ' +\n",
              "          '<a target=\"_blank\" href=https://colab.research.google.com/notebooks/data_table.ipynb>data table notebook</a>'\n",
              "          + ' to learn more about interactive tables.';\n",
              "        element.innerHTML = '';\n",
              "        dataTable['output_type'] = 'display_data';\n",
              "        await google.colab.output.renderOutput(dataTable, element);\n",
              "        const docLink = document.createElement('div');\n",
              "        docLink.innerHTML = docLinkHtml;\n",
              "        element.appendChild(docLink);\n",
              "      }\n",
              "    </script>\n",
              "  </div>\n",
              "\n",
              "\n",
              "<div id=\"df-53492c5e-f19a-44c9-8229-6c67780cd4a0\">\n",
              "  <button class=\"colab-df-quickchart\" onclick=\"quickchart('df-53492c5e-f19a-44c9-8229-6c67780cd4a0')\"\n",
              "            title=\"Suggest charts\"\n",
              "            style=\"display:none;\">\n",
              "\n",
              "<svg xmlns=\"http://www.w3.org/2000/svg\" height=\"24px\"viewBox=\"0 0 24 24\"\n",
              "     width=\"24px\">\n",
              "    <g>\n",
              "        <path d=\"M19 3H5c-1.1 0-2 .9-2 2v14c0 1.1.9 2 2 2h14c1.1 0 2-.9 2-2V5c0-1.1-.9-2-2-2zM9 17H7v-7h2v7zm4 0h-2V7h2v10zm4 0h-2v-4h2v4z\"/>\n",
              "    </g>\n",
              "</svg>\n",
              "  </button>\n",
              "\n",
              "<style>\n",
              "  .colab-df-quickchart {\n",
              "      --bg-color: #E8F0FE;\n",
              "      --fill-color: #1967D2;\n",
              "      --hover-bg-color: #E2EBFA;\n",
              "      --hover-fill-color: #174EA6;\n",
              "      --disabled-fill-color: #AAA;\n",
              "      --disabled-bg-color: #DDD;\n",
              "  }\n",
              "\n",
              "  [theme=dark] .colab-df-quickchart {\n",
              "      --bg-color: #3B4455;\n",
              "      --fill-color: #D2E3FC;\n",
              "      --hover-bg-color: #434B5C;\n",
              "      --hover-fill-color: #FFFFFF;\n",
              "      --disabled-bg-color: #3B4455;\n",
              "      --disabled-fill-color: #666;\n",
              "  }\n",
              "\n",
              "  .colab-df-quickchart {\n",
              "    background-color: var(--bg-color);\n",
              "    border: none;\n",
              "    border-radius: 50%;\n",
              "    cursor: pointer;\n",
              "    display: none;\n",
              "    fill: var(--fill-color);\n",
              "    height: 32px;\n",
              "    padding: 0;\n",
              "    width: 32px;\n",
              "  }\n",
              "\n",
              "  .colab-df-quickchart:hover {\n",
              "    background-color: var(--hover-bg-color);\n",
              "    box-shadow: 0 1px 2px rgba(60, 64, 67, 0.3), 0 1px 3px 1px rgba(60, 64, 67, 0.15);\n",
              "    fill: var(--button-hover-fill-color);\n",
              "  }\n",
              "\n",
              "  .colab-df-quickchart-complete:disabled,\n",
              "  .colab-df-quickchart-complete:disabled:hover {\n",
              "    background-color: var(--disabled-bg-color);\n",
              "    fill: var(--disabled-fill-color);\n",
              "    box-shadow: none;\n",
              "  }\n",
              "\n",
              "  .colab-df-spinner {\n",
              "    border: 2px solid var(--fill-color);\n",
              "    border-color: transparent;\n",
              "    border-bottom-color: var(--fill-color);\n",
              "    animation:\n",
              "      spin 1s steps(1) infinite;\n",
              "  }\n",
              "\n",
              "  @keyframes spin {\n",
              "    0% {\n",
              "      border-color: transparent;\n",
              "      border-bottom-color: var(--fill-color);\n",
              "      border-left-color: var(--fill-color);\n",
              "    }\n",
              "    20% {\n",
              "      border-color: transparent;\n",
              "      border-left-color: var(--fill-color);\n",
              "      border-top-color: var(--fill-color);\n",
              "    }\n",
              "    30% {\n",
              "      border-color: transparent;\n",
              "      border-left-color: var(--fill-color);\n",
              "      border-top-color: var(--fill-color);\n",
              "      border-right-color: var(--fill-color);\n",
              "    }\n",
              "    40% {\n",
              "      border-color: transparent;\n",
              "      border-right-color: var(--fill-color);\n",
              "      border-top-color: var(--fill-color);\n",
              "    }\n",
              "    60% {\n",
              "      border-color: transparent;\n",
              "      border-right-color: var(--fill-color);\n",
              "    }\n",
              "    80% {\n",
              "      border-color: transparent;\n",
              "      border-right-color: var(--fill-color);\n",
              "      border-bottom-color: var(--fill-color);\n",
              "    }\n",
              "    90% {\n",
              "      border-color: transparent;\n",
              "      border-bottom-color: var(--fill-color);\n",
              "    }\n",
              "  }\n",
              "</style>\n",
              "\n",
              "  <script>\n",
              "    async function quickchart(key) {\n",
              "      const quickchartButtonEl =\n",
              "        document.querySelector('#' + key + ' button');\n",
              "      quickchartButtonEl.disabled = true;  // To prevent multiple clicks.\n",
              "      quickchartButtonEl.classList.add('colab-df-spinner');\n",
              "      try {\n",
              "        const charts = await google.colab.kernel.invokeFunction(\n",
              "            'suggestCharts', [key], {});\n",
              "      } catch (error) {\n",
              "        console.error('Error during call to suggestCharts:', error);\n",
              "      }\n",
              "      quickchartButtonEl.classList.remove('colab-df-spinner');\n",
              "      quickchartButtonEl.classList.add('colab-df-quickchart-complete');\n",
              "    }\n",
              "    (() => {\n",
              "      let quickchartButtonEl =\n",
              "        document.querySelector('#df-53492c5e-f19a-44c9-8229-6c67780cd4a0 button');\n",
              "      quickchartButtonEl.style.display =\n",
              "        google.colab.kernel.accessAllowed ? 'block' : 'none';\n",
              "    })();\n",
              "  </script>\n",
              "</div>\n",
              "\n",
              "    </div>\n",
              "  </div>\n"
            ],
            "application/vnd.google.colaboratory.intrinsic+json": {
              "type": "dataframe",
              "summary": "{\n  \"name\": \"df\",\n  \"rows\": 4,\n  \"fields\": [\n    {\n      \"column\": \"Duration\",\n      \"properties\": {\n        \"dtype\": \"number\",\n        \"std\": 0.6015391687642571,\n        \"min\": -0.15127525259789004,\n        \"max\": 1.0,\n        \"num_unique_values\": 4,\n        \"samples\": [\n          -0.15127525259789004,\n          0.9218285478665466,\n          1.0\n        ],\n        \"semantic_type\": \"\",\n        \"description\": \"\"\n      }\n    },\n    {\n      \"column\": \"Pulse\",\n      \"properties\": {\n        \"dtype\": \"number\",\n        \"std\": 0.5579413589004811,\n        \"min\": -0.15127525259789004,\n        \"max\": 1.0,\n        \"num_unique_values\": 4,\n        \"samples\": [\n          1.0,\n          0.02205321953816799,\n          -0.15127525259789004\n        ],\n        \"semantic_type\": \"\",\n        \"description\": \"\"\n      }\n    },\n    {\n      \"column\": \"Maxpulse\",\n      \"properties\": {\n        \"dtype\": \"number\",\n        \"std\": 0.46720675724038346,\n        \"min\": 0.0038409244447775697,\n        \"max\": 1.0,\n        \"num_unique_values\": 4,\n        \"samples\": [\n          0.7568448713740316,\n          0.19471213252867037,\n          0.0038409244447775697\n        ],\n        \"semantic_type\": \"\",\n        \"description\": \"\"\n      }\n    },\n    {\n      \"column\": \"Calories\",\n      \"properties\": {\n        \"dtype\": \"number\",\n        \"std\": 0.49825397255467213,\n        \"min\": 0.02205321953816799,\n        \"max\": 1.0,\n        \"num_unique_values\": 4,\n        \"samples\": [\n          0.02205321953816799,\n          1.0,\n          0.9218285478665466\n        ],\n        \"semantic_type\": \"\",\n        \"description\": \"\"\n      }\n    }\n  ]\n}"
            }
          },
          "metadata": {},
          "execution_count": 119
        }
      ]
    },
    {
      "cell_type": "markdown",
      "source": [
        "#Data Visualisation"
      ],
      "metadata": {
        "id": "tiaqzHNAYEYM"
      }
    },
    {
      "cell_type": "code",
      "source": [
        "#plot data\n",
        "df.plot()"
      ],
      "metadata": {
        "id": "SG2F2MAoQkUj",
        "colab": {
          "base_uri": "https://localhost:8080/",
          "height": 447
        },
        "outputId": "9563f032-8cb6-407f-fd5a-cd1c9d8cbf8d"
      },
      "execution_count": null,
      "outputs": [
        {
          "output_type": "execute_result",
          "data": {
            "text/plain": [
              "<Axes: >"
            ]
          },
          "metadata": {},
          "execution_count": 120
        },
        {
          "output_type": "display_data",
          "data": {
            "text/plain": [
              "<Figure size 640x480 with 1 Axes>"
            ],
            "image/png": "[encoded data removed]"
          },
          "metadata": {}
        }
      ]
    },
    {
      "cell_type": "code",
      "source": [
        "#Customise to make it more understandable\n",
        "df.plot(kind = 'scatter', x = 'Duration', y = 'Calories')"
      ],
      "metadata": {
        "id": "oce3BUtwQlz6",
        "colab": {
          "base_uri": "https://localhost:8080/",
          "height": 466
        },
        "outputId": "c0bb7cbd-0a10-45b9-9cc7-1e14732555fa"
      },
      "execution_count": null,
      "outputs": [
        {
          "output_type": "execute_result",
          "data": {
            "text/plain": [
              "<Axes: xlabel='Duration', ylabel='Calories'>"
            ]
          },
          "metadata": {},
          "execution_count": 121
        },
        {
          "output_type": "display_data",
          "data": {
            "text/plain": [
              "<Figure size 640x480 with 1 Axes>"
            ],
            "image/png": "[encoded data removed]"
          },
          "metadata": {}
        }
      ]
    },
    {
      "cell_type": "code",
      "source": [
        "df.plot(kind = 'scatter', x = 'Duration', y = 'Maxpulse')"
      ],
      "metadata": {
        "id": "3_XC03GqXN0v",
        "colab": {
          "base_uri": "https://localhost:8080/",
          "height": 466
        },
        "outputId": "d40f696d-c788-4a51-9abc-3c7ae13bee89"
      },
      "execution_count": null,
      "outputs": [
        {
          "output_type": "execute_result",
          "data": {
            "text/plain": [
              "<Axes: xlabel='Duration', ylabel='Maxpulse'>"
            ]
          },
          "metadata": {},
          "execution_count": 122
        },
        {
          "output_type": "display_data",
          "data": {
            "text/plain": [
              "<Figure size 640x480 with 1 Axes>"
            ],
            "image/png": "[encoded data removed]"
          },
          "metadata": {}
        }
      ]
    },
    {
      "cell_type": "code",
      "source": [
        "df[\"Duration\"].plot(kind = 'hist')"
      ],
      "metadata": {
        "id": "D06dQ4QhQnaD",
        "colab": {
          "base_uri": "https://localhost:8080/",
          "height": 447
        },
        "outputId": "0ccceaf3-d377-44da-8512-2d012b88e7fd"
      },
      "execution_count": null,
      "outputs": [
        {
          "output_type": "execute_result",
          "data": {
            "text/plain": [
              "<Axes: ylabel='Frequency'>"
            ]
          },
          "metadata": {},
          "execution_count": 123
        },
        {
          "output_type": "display_data",
          "data": {
            "text/plain": [
              "<Figure size 640x480 with 1 Axes>"
            ],
            "image/png": "[encoded data removed]"
          },
          "metadata": {}
        }
      ]
    }
  ]
}