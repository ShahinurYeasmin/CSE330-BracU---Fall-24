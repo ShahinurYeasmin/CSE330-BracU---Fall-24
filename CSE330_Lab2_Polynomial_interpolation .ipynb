{
  "nbformat": 4,
  "nbformat_minor": 0,
  "metadata": {
    "colab": {
      "provenance": []
    },
    "kernelspec": {
      "name": "python3",
      "display_name": "Python 3"
    },
    "language_info": {
      "name": "python"
    }
  },
  "cells": [
    {
      "cell_type": "markdown",
      "metadata": {
        "deletable": false,
        "editable": false,
        "nbgrader": {
          "cell_type": "markdown",
          "checksum": "a1a4b82e1290e7fe207981d775116189",
          "grade": false,
          "grade_id": "part1_intro",
          "locked": true,
          "schema_version": 3,
          "solution": false,
          "task": false
        },
        "id": "6D4EuqaHgxwc"
      },
      "source": [
        "# Part 1: Representing a Polynomial\n",
        "\n",
        "Polynomials are function of the following format\n",
        "\n",
        "$$p(x) = a_0 + a_1 x ^ 1 + a_2 x ^ 2 + ... + a_n x ^ n,$$\n",
        "\n",
        "where, $[a_0, a_1, \\cdots a_n]$ are called coefficients and $n$ (called the degree or order) is a non-negative integer.\n",
        "\n",
        "\n",
        "This can also be written as:\n",
        "\n",
        "$$y = f(x) = a_0 x^0 + a_1 x ^ 1 + a_2 x ^ 2 + ... + a_n x ^ n.$$\n",
        "\n",
        "**Example**\n",
        "$$ y = 1 + 2x^2 + 5x^4 $$ is a polynomial of order 4 ($ = n$) with $n+1$ coeffecients $a_0 = 1, a_1 = 0, a_2 = 2, a_3 = 0, a_4 = 5$"
      ]
    },
    {
      "cell_type": "code",
      "execution_count": null,
      "metadata": {
        "id": "Pj-9uKGfGkdL"
      },
      "outputs": [],
      "source": [
        "import matplotlib.pyplot as plt\n",
        "import numpy as np"
      ]
    },
    {
      "cell_type": "markdown",
      "source": [
        "Using List"
      ],
      "metadata": {
        "id": "Dbt8AdArHm_9"
      }
    },
    {
      "cell_type": "code",
      "source": [
        "coeff = [1, 0, 2, 0, 5] # coefficients of the polynomial\n",
        "n = len(coeff) - 1 # degree. Remember: number of coeff = degree + 1\n",
        "\n",
        "x = 6.0\n",
        "p_x = 0.0\n",
        "\n",
        "for i in range(n+1):\n",
        "  p_x += coeff[i] * (x ** i)\n",
        "\n",
        "print(p_x)\n",
        "\n",
        "\n",
        "x_arr = [1.0, 2.0, 3.0, 4.0, 5.0, 6.0]\n",
        "p_x_arr = []\n",
        "\n",
        "p_x=0\n",
        "for i in range(len(x_arr)):\n",
        "  for j in range(n+1):\n",
        "    p_x += coeff[j] * (x_arr[i] ** j)\n",
        "  p_x_arr.append(p_x)\n",
        "  p_x=0\n",
        "\n",
        "print(p_x_arr)"
      ],
      "metadata": {
        "colab": {
          "base_uri": "https://localhost:8080/"
        },
        "id": "I9nx3L0MG4CM",
        "outputId": "613a5c74-aa51-430e-8fe1-0edd83565a73"
      },
      "execution_count": null,
      "outputs": [
        {
          "output_type": "stream",
          "name": "stdout",
          "text": [
            "6553.0\n",
            "[8.0, 89.0, 424.0, 1313.0, 3176.0, 6553.0]\n"
          ]
        }
      ]
    },
    {
      "cell_type": "markdown",
      "source": [
        "Using Class"
      ],
      "metadata": {
        "id": "Kw2yP9XrHok2"
      }
    },
    {
      "cell_type": "code",
      "source": [
        "class Polynomial:\n",
        "  def __init__(self, coeff):\n",
        "    self.coeff = coeff\n",
        "    self.degree = len(coeff) - 1\n",
        "\n",
        "  def __call__(self, x_arr):\n",
        "    self.x_arr=x_arr\n",
        "    p_x_arr = []\n",
        "    p_x=0\n",
        "    for i in range(len(x_arr)):\n",
        "      for j in range(len(self.coeff)):\n",
        "        p_x += self.coeff[j] * (x_arr[i] ** j)\n",
        "      p_x_arr.append((p_x))\n",
        "      p_x=0\n",
        "    print(p_x_arr)\n",
        "    return p_x_arr\n",
        "\n",
        "  def __repr__(self):\n",
        "    str_ret = f'Polynomial of degree {self.degree}\\np(x) = '\n",
        "    for i in range(len(x_arr)):\n",
        "        a_val = self.coeff[i]\n",
        "        if i != 0:\n",
        "            if a_val >= 0:\n",
        "                str_ret += f'+ {a_val}x^{i} '\n",
        "            else:\n",
        "                str_ret += f'- {-a_val}x^{i} '\n",
        "        else:\n",
        "            str_ret += f'{a_val}x^{i} '\n",
        "\n",
        "    return str_ret\n",
        "\n",
        "  def get_degree(self):\n",
        "    return self.degree\n",
        "\n",
        "  def get_coeffs(self):\n",
        "    return self.coeffs"
      ],
      "metadata": {
        "id": "wZiucEEiHiSi"
      },
      "execution_count": null,
      "outputs": []
    },
    {
      "cell_type": "code",
      "source": [
        "x_arr = np.array([1, 2, 3, 4, 5])\n",
        "\n",
        "coeff = np.array([1.0, 0.0, 2.0, 0.0, 5.0])\n",
        "p = Polynomial(coeff)\n",
        "print(p)\n",
        "\n",
        "results = [8, 89, 424, 1313, 3176]\n",
        "test = p(x_arr)\n",
        "\n",
        "np.testing.assert_array_equal(results, test)"
      ],
      "metadata": {
        "colab": {
          "base_uri": "https://localhost:8080/"
        },
        "id": "rP6j5U_cIS44",
        "outputId": "56039094-943c-44e6-870f-9c208ea60014"
      },
      "execution_count": null,
      "outputs": [
        {
          "output_type": "stream",
          "name": "stdout",
          "text": [
            "Polynomial of degree 4\n",
            "p(x) = 1.0x^0 + 0.0x^1 + 2.0x^2 + 0.0x^3 + 5.0x^4 \n",
            "[8.0, 89.0, 424.0, 1313.0, 3176.0]\n"
          ]
        }
      ]
    },
    {
      "cell_type": "code",
      "source": [
        "# an example to see if our implementation works\n",
        "coeff = np.array([1.0, 0.0, 2.0, 0.0, 5.0])\n",
        "p = Polynomial(coeff)\n",
        "print(p)  # check if printable\n",
        "x_arr = np.array([1, 2, 3, 4, 5])\n",
        "print()\n",
        "print(f\"p({x_arr}) =\", p(x_arr)) # check if the object is callable\n",
        "# should print p([1 2 3 4 5]) =  [   8.   89.  424. 1313. 3176.]"
      ],
      "metadata": {
        "id": "MBDuggntI46e",
        "colab": {
          "base_uri": "https://localhost:8080/"
        },
        "outputId": "e9649aae-a16f-4ebd-b947-b2d66adec3a7"
      },
      "execution_count": null,
      "outputs": [
        {
          "output_type": "stream",
          "name": "stdout",
          "text": [
            "Polynomial of degree 4\n",
            "p(x) = 1.0x^0 + 0.0x^1 + 2.0x^2 + 0.0x^3 + 5.0x^4 \n",
            "\n",
            "[8.0, 89.0, 424.0, 1313.0, 3176.0]\n",
            "p([1 2 3 4 5]) = [8.0, 89.0, 424.0, 1313.0, 3176.0]\n"
          ]
        }
      ]
    },
    {
      "cell_type": "markdown",
      "metadata": {
        "id": "vuYkYozxgxwi"
      },
      "source": [
        "# Part 2: Polynomial Interpolation (Matrix Method)\n",
        "\n",
        "If we have  $n+1$ nodes, that is,  $\\{(x_0, y_0), (x_1, y_1), (x_2, y_2), (x_{n}, y_{n})\\}$ that satisfies a polynomial of order $n$, it can be written as:\n",
        "\n",
        "\\begin{align}\n",
        "&a_0 + a_1  x_0 + a_2  x_0^2 + \\cdots a_n  x_0^n = y_0\\\\\n",
        "&a_0 + a_1  x_1 + a_2  x_1^2 + \\cdots a_n  x_1^n = y_1\\\\\n",
        "&a_0 + a_1  x_2 + a_2  x_2^2 + \\cdots a_n  x_2^n = y_2\\\\\n",
        "&\\cdots\\\\\n",
        "&a_0 + a_1  x_{n-1} + a_2  x_{n}^2 + \\cdots + a_n  x_{n}^n = y_{n}\\\\\n",
        "\\end{align}\n",
        "\n",
        "Here, $p(x) = a_0 + a_1x^1 + a_2x^2 + \\cdots a_nx^n$ is called the fitted polynomial of the given data points (nodes). Using this polynomial to find the $y_k$ corresponding to an $x_k$ with the range of the given nodes is called polynomial interpolation.\n",
        "\n",
        "In matrix form, the equations can be written as  $$\\mathbf{Xa = y},$$\n",
        "\n",
        "where $\\mathbf{X} = $\n",
        "\n",
        "\\begin{bmatrix}\n",
        "x_0^0 & x_0^1 & x_0^2 & \\cdots & x_0^n\\\\\n",
        "x_1^0 & x_1^1 & x_1^2 & \\cdots & x_1^n\\\\\n",
        "\\vdots & \\vdots & \\vdots & \\ddots & \\vdots\\\\\n",
        "x_n^0 & x_{n}^1 & x_n^2 & \\cdots & x_n^n\\\\\n",
        "\\end{bmatrix}\n",
        "\n",
        "$\\mathbf{a} = $\n",
        "\\begin{bmatrix}\n",
        "a_0\\\\\n",
        "a_1\\\\\n",
        "\\vdots\\\\\n",
        "a_n\n",
        "\\end{bmatrix}\n",
        "\n",
        "and $\\mathbf{y} = $\n",
        "\\begin{bmatrix}\n",
        "y_0\\\\\n",
        "y_1\\\\\n",
        "\\vdots\\\\\n",
        "y_n\n",
        "\\end{bmatrix}\n",
        "\n",
        "From this, we can solve for $\\mathbf{a}$ using\n",
        "$$\\mathbf{a = X^{-1}y}.$$\n",
        "\n"
      ]
    },
    {
      "cell_type": "markdown",
      "source": [
        "Vandermonde Matrix"
      ],
      "metadata": {
        "id": "zN-hty0aI_d5"
      }
    },
    {
      "cell_type": "code",
      "source": [
        "def get_poly(data_x, data_y):\n",
        "    n_nodes = len(data_x)\n",
        "    X = np.zeros((n_nodes, n_nodes))\n",
        "\n",
        "    for i in range(n_nodes):\n",
        "        for j in range(n_nodes):\n",
        "            X[i][j] = data_x[i] ** j\n",
        "    print(X)\n",
        "    X_inv = np.linalg.pinv(X)\n",
        "    a = np.dot(X_inv, data_y)\n",
        "    p = Polynomial(a)\n",
        "\n",
        "    return p"
      ],
      "metadata": {
        "id": "KjtZI9x9nuhj"
      },
      "execution_count": null,
      "outputs": []
    },
    {
      "cell_type": "code",
      "source": [
        "data_x = np.array([-3., -2., -1., 0., 1., 3.])   # (-3, -80), (-2, -13)......\n",
        "data_y = np.array([-80., -13., 6., 1., 5., 16.])\n",
        "p = get_poly(data_x, data_y)"
      ],
      "metadata": {
        "colab": {
          "base_uri": "https://localhost:8080/"
        },
        "id": "Wihogp6NJhAT",
        "outputId": "b5fa87cb-83bf-463a-968f-6e0562cdc26d"
      },
      "execution_count": null,
      "outputs": [
        {
          "output_type": "stream",
          "name": "stdout",
          "text": [
            "[[   1.   -3.    9.  -27.   81. -243.]\n",
            " [   1.   -2.    4.   -8.   16.  -32.]\n",
            " [   1.   -1.    1.   -1.    1.   -1.]\n",
            " [   1.    0.    0.    0.    0.    0.]\n",
            " [   1.    1.    1.    1.    1.    1.]\n",
            " [   1.    3.    9.   27.   81.  243.]]\n"
          ]
        }
      ]
    },
    {
      "cell_type": "code",
      "source": [
        "data_x = np.array([-3., -2., -1., 0., 1., 3.])\n",
        "data_y = np.array([-80., -13., 6., 1., 5., 16.])\n",
        "p = get_poly(data_x, data_y)\n",
        "\n",
        "x_arr = np.linspace(-3, 3, 100)\n",
        "y_interp = p(x_arr)\n",
        "\n",
        "\n",
        "plt.plot(x_arr, y_interp, 'b')\n",
        "plt.plot(data_x, data_y, 'g*')\n",
        "plt.xlabel('x - axis')\n",
        "plt.ylabel('y - axis')\n",
        "\n",
        "\n",
        "plt.show()"
      ],
      "metadata": {
        "colab": {
          "base_uri": "https://localhost:8080/",
          "height": 590
        },
        "id": "riEPS685KQrM",
        "outputId": "54023975-3479-4ec9-ad4d-921f3247b992"
      },
      "execution_count": null,
      "outputs": [
        {
          "output_type": "stream",
          "name": "stdout",
          "text": [
            "[[   1.   -3.    9.  -27.   81. -243.]\n",
            " [   1.   -2.    4.   -8.   16.  -32.]\n",
            " [   1.   -1.    1.   -1.    1.   -1.]\n",
            " [   1.    0.    0.    0.    0.    0.]\n",
            " [   1.    1.    1.    1.    1.    1.]\n",
            " [   1.    3.    9.   27.   81.  243.]]\n",
            "[-80.00000000000054, -74.6099768905694, -69.36169491556362, -64.26436346250605, -59.326221339679606, -54.554564168211584, -49.955771774158755, -45.53533558059178, -41.297885999680005, -37.24721982477618, -33.386327622501184, -29.717421124828654, -26.241960621169802, -22.960682350457994, -19.87362589323353, -16.98016156372833, -14.27901780195068, -11.768308565769843, -9.445560723000838, -7.307741443489137, -5.3512855911953645, -3.5721231162799603, -1.9657064471879364, -0.527037882733588, 0.7493030158148648, 1.8691320326505192, 2.838632905343095, 3.6643299327542396, 4.3530605829528195, 4.911948101130213, 5.348374117515607, 5.6699512552913, 5.884495738507984, 6.000000000000055, 6.02460528930089, 5.966574280558162, 5.834263680449121, 5.6360968360959, 5.380536342980803, 5.0760566528616025, 4.731116681686838, 4.354132417511105, 3.9534495284103577, 3.537315970397203, 3.1138545953361865, 2.6910357588591087, 2.276649928280298, 1.8782802905119174, 1.5032753599792605, 1.1587215865360443, 0.851415963379704, 0.5878386349666916, 0.3741255049277695, 0.21604084398330436, 0.11894989785856817, 0.08779149519902656, 0.1270506554856386, 0.24073119695015172, 0.4323283444903969, 0.7048013375855842, 1.0605460382116016, 1.5013675387562968, 2.0284527699347934, 2.642343108704774, 3.342906986181776, 4.129312495554486, 5.000000000000045, 5.952654740599333, 6.984179444252268, 8.090666931593104, 9.267372724905721, 10.508687656038928, 11.808110474321756, 13.158220454478773, 14.550650004545279, 15.97605727378277, 17.42409876059411, 18.883401920438857, 20.341537773748573, 21.784993513842103, 23.199145114840874, 24.568229939584203, 25.87531934754457, 27.102291302742938, 28.229802981664008, 29.23726338117161, 30.102805926423848, 30.803261078788516, 31.314128943758398, 31.609551878866448, 31.662287101601198, 31.44367929732202, 30.923633227174395, 30.07058633600527, 28.85148136027825, 27.231738935989014, 25.175230206580544, 22.64424943085838, 19.599486590906054, 16.0000000000002]\n"
          ]
        },
        {
          "output_type": "display_data",
          "data": {
            "text/plain": [
              "<Figure size 640x480 with 1 Axes>"
            ],
            "image/png": "[encoded data removed]"
          },
          "metadata": {}
        }
      ]
    },
    {
      "cell_type": "markdown",
      "source": [
        "###Task 1\n",
        "Suppose, you have three nodes (-0.75, 1.87), (0.5, 2.20), (1.5, 2.44). Using Vandermonde Matrix method, print out the value of the interpolating polynomial at x = 3.\n",
        "You have to solve the given problem using above implemented **get_poly()** method."
      ],
      "metadata": {
        "id": "OOo7jElhMyay"
      }
    },
    {
      "cell_type": "code",
      "source": [],
      "metadata": {
        "id": "tUPzXkimKdJ9"
      },
      "execution_count": null,
      "outputs": []
    },
    {
      "cell_type": "markdown",
      "source": [
        "### Task 2\n",
        "\n",
        "You have been given three separate set of nodes,\n",
        "\n",
        "1.   Set 1:  (-0.45, 1.02), (0.39, 1.47), (1.33, 2.02)\n",
        "\n",
        "2.   Set 2:  (0.5, 1.24), (-0.39, -1.46)\n",
        "\n",
        "\n",
        "(a)Find two separate interpolating polynomial equations using the given set of nodes.\n",
        "\n",
        "(b)Print the degrees and the coefficients of each of the polynomials separately.\n",
        "\n",
        "(c)Calculate and print the absolute average value of the coefficients for each of the polynomials separately.\n",
        "\n",
        "(d)Finally use the given values of x to find their corresponding y values for the polynomial with the highest average of coefficients. **[Hint: You can take decision based on the average value of the coefficients]**\n",
        "\n",
        "**Given x value list = [-0.45, 0.51, 1.23, 1.49, 1.67, 2.05, 2.77]**"
      ],
      "metadata": {
        "id": "7T-QxqxFNE-k"
      }
    },
    {
      "cell_type": "code",
      "source": [],
      "metadata": {
        "id": "D4jlBMZrKiB6"
      },
      "execution_count": null,
      "outputs": []
    }
  ]
}
